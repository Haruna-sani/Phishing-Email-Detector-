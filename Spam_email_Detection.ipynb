{
  "nbformat": 4,
  "nbformat_minor": 0,
  "metadata": {
    "colab": {
      "provenance": []
    },
    "kernelspec": {
      "name": "python3",
      "display_name": "Python 3"
    },
    "language_info": {
      "name": "python"
    }
  },
  "cells": [
    {
      "cell_type": "code",
      "execution_count": 60,
      "metadata": {
        "id": "W6eAmwpSBp5y"
      },
      "outputs": [],
      "source": [
        "# Import libraries\n",
        "import pandas as pd\n",
        "import numpy as np\n",
        "import re\n",
        "import nltk\n",
        "from nltk.corpus import stopwords\n",
        "import matplotlib.pyplot as plt\n",
        "import seaborn as sns\n",
        "from nltk.stem import WordNetLemmatizer\n",
        "from sklearn.feature_extraction.text import TfidfVectorizer, CountVectorizer\n",
        "from imblearn.over_sampling import SMOTE\n",
        "from sklearn.model_selection import train_test_split\n",
        "from xgboost import XGBClassifier\n",
        "from sklearn.ensemble import RandomForestClassifier\n",
        "from lightgbm import LGBMClassifier\n",
        "from tensorflow.keras.layers import Embedding\n",
        "from tensorflow.keras.preprocessing.sequence import pad_sequences\n",
        "from tensorflow.keras.models import Sequential\n",
        "from tensorflow.keras.preprocessing.text import one_hot\n",
        "from tensorflow.keras.preprocessing.text import Tokenizer\n",
        "from tensorflow.keras.layers import LSTM, Dropout, Bidirectional, GRU\n",
        "from tensorflow.keras.layers import Dense\n",
        "from sklearn.metrics import confusion_matrix, accuracy_score, classification_report\n",
        "import warnings\n",
        "warnings.filterwarnings('ignore')"
      ]
    },
    {
      "cell_type": "code",
      "source": [
        "df = pd.read_csv('/content/Nigerian_Fraud.csv')\n",
        "df.head()"
      ],
      "metadata": {
        "colab": {
          "base_uri": "https://localhost:8080/",
          "height": 573
        },
        "id": "B0T_BF52THiq",
        "outputId": "0ba9200a-0d17-43e0-e5f1-55e1e2005928"
      },
      "execution_count": 2,
      "outputs": [
        {
          "output_type": "execute_result",
          "data": {
            "text/plain": [
              "                                           sender              receiver  \\\n",
              "0  MR. JAMES NGOLA. <james_ngola2002@maktoob.com>  webmaster@aclweb.org   \n",
              "1  Mr. Ben Suleman <bensul2004nng@spinfinder.com>                   R@M   \n",
              "2       PRINCE OBONG ELEME <obong_715@epatra.com>  webmaster@aclweb.org   \n",
              "3       PRINCE OBONG ELEME <obong_715@epatra.com>  webmaster@aclweb.org   \n",
              "4              Maryam Abacha <m_abacha03@www.com>                   R@M   \n",
              "\n",
              "                              date  \\\n",
              "0  Thu, 31 Oct 2002 02:38:20 +0000   \n",
              "1  Thu, 31 Oct 2002 05:10:00 -0000   \n",
              "2  Thu, 31 Oct 2002 22:17:55 +0100   \n",
              "3  Thu, 31 Oct 2002 22:44:20 -0000   \n",
              "4  Fri, 01 Nov 2002 01:45:04 +0100   \n",
              "\n",
              "                                      subject  \\\n",
              "0  URGENT BUSINESS ASSISTANCE AND PARTNERSHIP   \n",
              "1         URGENT ASSISTANCE /RELATIONSHIP (P)   \n",
              "2                             GOOD DAY TO YOU   \n",
              "3                             GOOD DAY TO YOU   \n",
              "4                     I Need Your Assistance.   \n",
              "\n",
              "                                                body  urls  label  \n",
              "0  FROM:MR. JAMES NGOLA.\\nCONFIDENTIAL TEL: 233-2...     0      1  \n",
              "1  Dear Friend,\\n\\nI am Mr. Ben Suleman a custom ...     0      1  \n",
              "2  FROM HIS ROYAL MAJESTY (HRM) CROWN RULER OF EL...     0      1  \n",
              "3  FROM HIS ROYAL MAJESTY (HRM) CROWN RULER OF EL...     0      1  \n",
              "4  Dear sir, \\n \\nIt is with a heart full of hope...     0      1  "
            ],
            "text/html": [
              "\n",
              "  <div id=\"df-4298d112-c2fc-4f6a-9deb-3b6b3d182c2f\" class=\"colab-df-container\">\n",
              "    <div>\n",
              "<style scoped>\n",
              "    .dataframe tbody tr th:only-of-type {\n",
              "        vertical-align: middle;\n",
              "    }\n",
              "\n",
              "    .dataframe tbody tr th {\n",
              "        vertical-align: top;\n",
              "    }\n",
              "\n",
              "    .dataframe thead th {\n",
              "        text-align: right;\n",
              "    }\n",
              "</style>\n",
              "<table border=\"1\" class=\"dataframe\">\n",
              "  <thead>\n",
              "    <tr style=\"text-align: right;\">\n",
              "      <th></th>\n",
              "      <th>sender</th>\n",
              "      <th>receiver</th>\n",
              "      <th>date</th>\n",
              "      <th>subject</th>\n",
              "      <th>body</th>\n",
              "      <th>urls</th>\n",
              "      <th>label</th>\n",
              "    </tr>\n",
              "  </thead>\n",
              "  <tbody>\n",
              "    <tr>\n",
              "      <th>0</th>\n",
              "      <td>MR. JAMES NGOLA. &lt;james_ngola2002@maktoob.com&gt;</td>\n",
              "      <td>webmaster@aclweb.org</td>\n",
              "      <td>Thu, 31 Oct 2002 02:38:20 +0000</td>\n",
              "      <td>URGENT BUSINESS ASSISTANCE AND PARTNERSHIP</td>\n",
              "      <td>FROM:MR. JAMES NGOLA.\\nCONFIDENTIAL TEL: 233-2...</td>\n",
              "      <td>0</td>\n",
              "      <td>1</td>\n",
              "    </tr>\n",
              "    <tr>\n",
              "      <th>1</th>\n",
              "      <td>Mr. Ben Suleman &lt;bensul2004nng@spinfinder.com&gt;</td>\n",
              "      <td>R@M</td>\n",
              "      <td>Thu, 31 Oct 2002 05:10:00 -0000</td>\n",
              "      <td>URGENT ASSISTANCE /RELATIONSHIP (P)</td>\n",
              "      <td>Dear Friend,\\n\\nI am Mr. Ben Suleman a custom ...</td>\n",
              "      <td>0</td>\n",
              "      <td>1</td>\n",
              "    </tr>\n",
              "    <tr>\n",
              "      <th>2</th>\n",
              "      <td>PRINCE OBONG ELEME &lt;obong_715@epatra.com&gt;</td>\n",
              "      <td>webmaster@aclweb.org</td>\n",
              "      <td>Thu, 31 Oct 2002 22:17:55 +0100</td>\n",
              "      <td>GOOD DAY TO YOU</td>\n",
              "      <td>FROM HIS ROYAL MAJESTY (HRM) CROWN RULER OF EL...</td>\n",
              "      <td>0</td>\n",
              "      <td>1</td>\n",
              "    </tr>\n",
              "    <tr>\n",
              "      <th>3</th>\n",
              "      <td>PRINCE OBONG ELEME &lt;obong_715@epatra.com&gt;</td>\n",
              "      <td>webmaster@aclweb.org</td>\n",
              "      <td>Thu, 31 Oct 2002 22:44:20 -0000</td>\n",
              "      <td>GOOD DAY TO YOU</td>\n",
              "      <td>FROM HIS ROYAL MAJESTY (HRM) CROWN RULER OF EL...</td>\n",
              "      <td>0</td>\n",
              "      <td>1</td>\n",
              "    </tr>\n",
              "    <tr>\n",
              "      <th>4</th>\n",
              "      <td>Maryam Abacha &lt;m_abacha03@www.com&gt;</td>\n",
              "      <td>R@M</td>\n",
              "      <td>Fri, 01 Nov 2002 01:45:04 +0100</td>\n",
              "      <td>I Need Your Assistance.</td>\n",
              "      <td>Dear sir, \\n \\nIt is with a heart full of hope...</td>\n",
              "      <td>0</td>\n",
              "      <td>1</td>\n",
              "    </tr>\n",
              "  </tbody>\n",
              "</table>\n",
              "</div>\n",
              "    <div class=\"colab-df-buttons\">\n",
              "\n",
              "  <div class=\"colab-df-container\">\n",
              "    <button class=\"colab-df-convert\" onclick=\"convertToInteractive('df-4298d112-c2fc-4f6a-9deb-3b6b3d182c2f')\"\n",
              "            title=\"Convert this dataframe to an interactive table.\"\n",
              "            style=\"display:none;\">\n",
              "\n",
              "  <svg xmlns=\"http://www.w3.org/2000/svg\" height=\"24px\" viewBox=\"0 -960 960 960\">\n",
              "    <path d=\"M120-120v-720h720v720H120Zm60-500h600v-160H180v160Zm220 220h160v-160H400v160Zm0 220h160v-160H400v160ZM180-400h160v-160H180v160Zm440 0h160v-160H620v160ZM180-180h160v-160H180v160Zm440 0h160v-160H620v160Z\"/>\n",
              "  </svg>\n",
              "    </button>\n",
              "\n",
              "  <style>\n",
              "    .colab-df-container {\n",
              "      display:flex;\n",
              "      gap: 12px;\n",
              "    }\n",
              "\n",
              "    .colab-df-convert {\n",
              "      background-color: #E8F0FE;\n",
              "      border: none;\n",
              "      border-radius: 50%;\n",
              "      cursor: pointer;\n",
              "      display: none;\n",
              "      fill: #1967D2;\n",
              "      height: 32px;\n",
              "      padding: 0 0 0 0;\n",
              "      width: 32px;\n",
              "    }\n",
              "\n",
              "    .colab-df-convert:hover {\n",
              "      background-color: #E2EBFA;\n",
              "      box-shadow: 0px 1px 2px rgba(60, 64, 67, 0.3), 0px 1px 3px 1px rgba(60, 64, 67, 0.15);\n",
              "      fill: #174EA6;\n",
              "    }\n",
              "\n",
              "    .colab-df-buttons div {\n",
              "      margin-bottom: 4px;\n",
              "    }\n",
              "\n",
              "    [theme=dark] .colab-df-convert {\n",
              "      background-color: #3B4455;\n",
              "      fill: #D2E3FC;\n",
              "    }\n",
              "\n",
              "    [theme=dark] .colab-df-convert:hover {\n",
              "      background-color: #434B5C;\n",
              "      box-shadow: 0px 1px 3px 1px rgba(0, 0, 0, 0.15);\n",
              "      filter: drop-shadow(0px 1px 2px rgba(0, 0, 0, 0.3));\n",
              "      fill: #FFFFFF;\n",
              "    }\n",
              "  </style>\n",
              "\n",
              "    <script>\n",
              "      const buttonEl =\n",
              "        document.querySelector('#df-4298d112-c2fc-4f6a-9deb-3b6b3d182c2f button.colab-df-convert');\n",
              "      buttonEl.style.display =\n",
              "        google.colab.kernel.accessAllowed ? 'block' : 'none';\n",
              "\n",
              "      async function convertToInteractive(key) {\n",
              "        const element = document.querySelector('#df-4298d112-c2fc-4f6a-9deb-3b6b3d182c2f');\n",
              "        const dataTable =\n",
              "          await google.colab.kernel.invokeFunction('convertToInteractive',\n",
              "                                                    [key], {});\n",
              "        if (!dataTable) return;\n",
              "\n",
              "        const docLinkHtml = 'Like what you see? Visit the ' +\n",
              "          '<a target=\"_blank\" href=https://colab.research.google.com/notebooks/data_table.ipynb>data table notebook</a>'\n",
              "          + ' to learn more about interactive tables.';\n",
              "        element.innerHTML = '';\n",
              "        dataTable['output_type'] = 'display_data';\n",
              "        await google.colab.output.renderOutput(dataTable, element);\n",
              "        const docLink = document.createElement('div');\n",
              "        docLink.innerHTML = docLinkHtml;\n",
              "        element.appendChild(docLink);\n",
              "      }\n",
              "    </script>\n",
              "  </div>\n",
              "\n",
              "\n",
              "<div id=\"df-2f8d9c7f-3747-4627-ad78-7789d4b04233\">\n",
              "  <button class=\"colab-df-quickchart\" onclick=\"quickchart('df-2f8d9c7f-3747-4627-ad78-7789d4b04233')\"\n",
              "            title=\"Suggest charts\"\n",
              "            style=\"display:none;\">\n",
              "\n",
              "<svg xmlns=\"http://www.w3.org/2000/svg\" height=\"24px\"viewBox=\"0 0 24 24\"\n",
              "     width=\"24px\">\n",
              "    <g>\n",
              "        <path d=\"M19 3H5c-1.1 0-2 .9-2 2v14c0 1.1.9 2 2 2h14c1.1 0 2-.9 2-2V5c0-1.1-.9-2-2-2zM9 17H7v-7h2v7zm4 0h-2V7h2v10zm4 0h-2v-4h2v4z\"/>\n",
              "    </g>\n",
              "</svg>\n",
              "  </button>\n",
              "\n",
              "<style>\n",
              "  .colab-df-quickchart {\n",
              "      --bg-color: #E8F0FE;\n",
              "      --fill-color: #1967D2;\n",
              "      --hover-bg-color: #E2EBFA;\n",
              "      --hover-fill-color: #174EA6;\n",
              "      --disabled-fill-color: #AAA;\n",
              "      --disabled-bg-color: #DDD;\n",
              "  }\n",
              "\n",
              "  [theme=dark] .colab-df-quickchart {\n",
              "      --bg-color: #3B4455;\n",
              "      --fill-color: #D2E3FC;\n",
              "      --hover-bg-color: #434B5C;\n",
              "      --hover-fill-color: #FFFFFF;\n",
              "      --disabled-bg-color: #3B4455;\n",
              "      --disabled-fill-color: #666;\n",
              "  }\n",
              "\n",
              "  .colab-df-quickchart {\n",
              "    background-color: var(--bg-color);\n",
              "    border: none;\n",
              "    border-radius: 50%;\n",
              "    cursor: pointer;\n",
              "    display: none;\n",
              "    fill: var(--fill-color);\n",
              "    height: 32px;\n",
              "    padding: 0;\n",
              "    width: 32px;\n",
              "  }\n",
              "\n",
              "  .colab-df-quickchart:hover {\n",
              "    background-color: var(--hover-bg-color);\n",
              "    box-shadow: 0 1px 2px rgba(60, 64, 67, 0.3), 0 1px 3px 1px rgba(60, 64, 67, 0.15);\n",
              "    fill: var(--button-hover-fill-color);\n",
              "  }\n",
              "\n",
              "  .colab-df-quickchart-complete:disabled,\n",
              "  .colab-df-quickchart-complete:disabled:hover {\n",
              "    background-color: var(--disabled-bg-color);\n",
              "    fill: var(--disabled-fill-color);\n",
              "    box-shadow: none;\n",
              "  }\n",
              "\n",
              "  .colab-df-spinner {\n",
              "    border: 2px solid var(--fill-color);\n",
              "    border-color: transparent;\n",
              "    border-bottom-color: var(--fill-color);\n",
              "    animation:\n",
              "      spin 1s steps(1) infinite;\n",
              "  }\n",
              "\n",
              "  @keyframes spin {\n",
              "    0% {\n",
              "      border-color: transparent;\n",
              "      border-bottom-color: var(--fill-color);\n",
              "      border-left-color: var(--fill-color);\n",
              "    }\n",
              "    20% {\n",
              "      border-color: transparent;\n",
              "      border-left-color: var(--fill-color);\n",
              "      border-top-color: var(--fill-color);\n",
              "    }\n",
              "    30% {\n",
              "      border-color: transparent;\n",
              "      border-left-color: var(--fill-color);\n",
              "      border-top-color: var(--fill-color);\n",
              "      border-right-color: var(--fill-color);\n",
              "    }\n",
              "    40% {\n",
              "      border-color: transparent;\n",
              "      border-right-color: var(--fill-color);\n",
              "      border-top-color: var(--fill-color);\n",
              "    }\n",
              "    60% {\n",
              "      border-color: transparent;\n",
              "      border-right-color: var(--fill-color);\n",
              "    }\n",
              "    80% {\n",
              "      border-color: transparent;\n",
              "      border-right-color: var(--fill-color);\n",
              "      border-bottom-color: var(--fill-color);\n",
              "    }\n",
              "    90% {\n",
              "      border-color: transparent;\n",
              "      border-bottom-color: var(--fill-color);\n",
              "    }\n",
              "  }\n",
              "</style>\n",
              "\n",
              "  <script>\n",
              "    async function quickchart(key) {\n",
              "      const quickchartButtonEl =\n",
              "        document.querySelector('#' + key + ' button');\n",
              "      quickchartButtonEl.disabled = true;  // To prevent multiple clicks.\n",
              "      quickchartButtonEl.classList.add('colab-df-spinner');\n",
              "      try {\n",
              "        const charts = await google.colab.kernel.invokeFunction(\n",
              "            'suggestCharts', [key], {});\n",
              "      } catch (error) {\n",
              "        console.error('Error during call to suggestCharts:', error);\n",
              "      }\n",
              "      quickchartButtonEl.classList.remove('colab-df-spinner');\n",
              "      quickchartButtonEl.classList.add('colab-df-quickchart-complete');\n",
              "    }\n",
              "    (() => {\n",
              "      let quickchartButtonEl =\n",
              "        document.querySelector('#df-2f8d9c7f-3747-4627-ad78-7789d4b04233 button');\n",
              "      quickchartButtonEl.style.display =\n",
              "        google.colab.kernel.accessAllowed ? 'block' : 'none';\n",
              "    })();\n",
              "  </script>\n",
              "</div>\n",
              "\n",
              "    </div>\n",
              "  </div>\n"
            ],
            "application/vnd.google.colaboratory.intrinsic+json": {
              "type": "dataframe",
              "variable_name": "df",
              "summary": "{\n  \"name\": \"df\",\n  \"rows\": 3332,\n  \"fields\": [\n    {\n      \"column\": \"sender\",\n      \"properties\": {\n        \"dtype\": \"string\",\n        \"num_unique_values\": 2876,\n        \"samples\": [\n          \"Mrs. Monica Kofi <monicakofi@voila.fr>\",\n          \"idris ali <dr_idris89@hotmail.fr>\",\n          \"joyscs@jumpy.it\"\n        ],\n        \"semantic_type\": \"\",\n        \"description\": \"\"\n      }\n    },\n    {\n      \"column\": \"receiver\",\n      \"properties\": {\n        \"dtype\": \"category\",\n        \"num_unique_values\": 865,\n        \"samples\": [\n          \"ohams1@fsmail.net\",\n          \"garuba_umaru2005@latinmail.com <garuba_umaru2005@latinmail.com>\",\n          \"dbgroup@UM\"\n        ],\n        \"semantic_type\": \"\",\n        \"description\": \"\"\n      }\n    },\n    {\n      \"column\": \"date\",\n      \"properties\": {\n        \"dtype\": \"object\",\n        \"num_unique_values\": 2843,\n        \"samples\": [\n          \"Wed, 26 Nov 2003 21:02:13 +0400\",\n          \"Tue, 17 Oct 2006 13:50:35 +0000\",\n          \"Wed, 22 Jun 2005 22:34:25 +0100\"\n        ],\n        \"semantic_type\": \"\",\n        \"description\": \"\"\n      }\n    },\n    {\n      \"column\": \"subject\",\n      \"properties\": {\n        \"dtype\": \"string\",\n        \"num_unique_values\": 2551,\n        \"samples\": [\n          \"From:Savimbi Denis\",\n          \"PLEASE GET BACK TO ME URGENTLY\",\n          \"RE:FROM EDDY IBE,\"\n        ],\n        \"semantic_type\": \"\",\n        \"description\": \"\"\n      }\n    },\n    {\n      \"column\": \"body\",\n      \"properties\": {\n        \"dtype\": \"string\",\n        \"num_unique_values\": 3332,\n        \"samples\": [\n          \"Dear Friend,\\n\\nWarmest greetings in the name of ALLAH,the most gracious. I pray that he may grant you the wisdom to understand the pathetic story i am about to tell and the courage to offer the much needed support i solicite for in this letter.\\n\\nI am a mother of two and the wife of late General YOUSSEF EL HADIDI of the defuct Republican Guard of ousted President Saddam Hussein . During the hay days of ex-president Saddam rulership in iraq my late husband was head of secret Army's procurement unit of the Republican Guard. His position and resposibility  availed him with so much power and financial liquidity that he was able to amass substantial amount of money some of which he wisely move to secret custody  out side iraq. Having forseen the caputilation of Saddam Hussein government my late husband quietly moved his family (my two kids & I) to Europe and tried to desert the Iraqi Army to join us in Europe, but was cought up  with by the dangerosu secret security mechinary  of Saddam. He was brutally murdered on the order of Saddam himself and all our properties and estate including bank account were consficated by the infamosu regime. \\nEver since my kids and i have lived in pennary until we uncovered through the help of his life -long solicitor some funds he left in a safe custody in London here.\\n\\nIt is for the purpose of entrusting and investing this huge fund with little or no trace to our family that i send you this propostition. The funds in question is $35 Million (Thirty Five Million) and is presently deposited in a trust company awaiting directives from me as my husband next of kin to move it.\\n\\nIt is true that i have never known you but i am desprately in need of somebody to trust, it has become a matter of expediency and total surrended to the will of God , the Almighty. \\nIf you do  understand my story willing and capable of handling this trustteeship proposition, kindly oblige me by sending your personal and business profile including all contact details for us to move forward without delay. You can reach me direclt on my fax +447092041337.\\n\\nAwaiting your response,\\nYours truly,\\nJumai Hadidi\\nTel/fax: 4470920341337  \",\n          \"Dear Sir / Madam,\\nI am Mr Mathias Seah, from Ivory Coast Abidjan but residing in \\nDakar Senegal in Africa. \\nIt is my desire to contact you on honesty and sincerity to assist me \\nin transferring the sum of $8,500,000(Eight Million Five Hundred Thousand \\nUnited States Dollars) inherited from my father late Dr. Seah Ahmed, to your \\ncountry for investment. \\nI am motivated in contacting you and hope to gradually build trust,\\nrelationship and confidence in you as I get to know you better. \\nSo please I want to know if you will be of assistance but first I want \\nto get to know you better. \\nI am willing to offer you 35%(of the total fund, for your effort input \\nafter the successful transfer of this money and investment. \\nIndicate your interest towards assisting me by sending your phone #and\\naddress to me so that I can communicate with you at any time. \\nI will be waiting for your response. My althernative email: \\nmathias_seah@yahoo.fr ( mathias_seah@inMail24.com\\n) reply as soon as \\npossible for more details. \\nThanks\\nMr Mathias Seah\\n \",\n          \"FROM MISS SAVANA PRISCA\\nABIDJAN.IVORY COAST.\\nCOTE D'IVOIRE.\\n\\nAPPEAL FOR URGENT ASSISTANCE.\\n\\nDear Sir,\\n\\nPermit me to inform you of my desire of going into\\nbusiness relationship with you.Though this letter will\\r\\nbe a surprise  to you since you dont know me\\npersonally I got your contacts recent .during my\\nsearch for a stranger that can cooperate help me in\\nthis mutual transaction. and I prayed over it and\\nselected your name among the other names due to its\\nesteeming nature and the recommations given to me as a\\nreputable and trust worthy person that I can do\\nbusiness with and by the recommendation, I must not\\nhesitate to confide in you for this simple and sincere\\nBusiness. \\n\\n\\nI am MISS SAVANA PRISCA, the only daughter of late Mr.\\nAnd MrsSAVANA My father was a very wealth cocoa\\nmerchant in Abidjan, the economic capital of Ivory\\nCoast, my father died during the political war crisis\\nthat going on in my country here in ivory coast(cote\\nd'ivoire)My mother died when I was a baby when she was\\nabout to delivers a new baby and since then my father\\ntook me so special. \\n\\nBefore the death of my father on november 2002 in a private hospital herein Abidjan he secretly called me on his bed side and told me that he has the sum of Eight Million,Five Hundred Thousand\\nUnited State Dollars. USD($8.500,000) left in one of\\nthe private security/finances trust services house\\nhere in Abidjan Ivory Coast ,as a family treasures\\nthat he used my names her only daughter for the next\\nof kin in depositing of the fund. He also explained to\\nme that he might not survive the situation he was at\\nthat present.\\n\\nHowever That I should seek for a foreign partner in a\\ncountry of my choice where I will transfer this money\\nand use it for investment purpose such as real estate\\nmanagement or hotel management.\\n\\nSir,I am in a sincere desire of your humble assistance\\nin this regards again.Your suggestions and ideas will\\nbe highly regarded.\\n\\r\\n\\nNow permit me to ask these few questions:- \\n(1)Can you help me for the retrievements of this fund\\non my behalf in the security custody here to your end?\\n\\n(2)Can you stand as a guardian of this since fund\\nsince I am only 22 years old?\\n\\n(3)Can you make an arrangement for me to come over to\\nyour country to further my Education and to secure a\\nresident permit in your country?\\n\\n(4) Can you honestly take me as your own and help me? \\n\\n(5) Can I completely trust you? \\n\\n(6) What percentage of the total amount in question\\n\\nwill be go for you after the money is in your\\r\\naccount? \\n\\nPlease,Consider this and get back to me as soon as\\npossible so that i can forward the documents to you\\nafter we have agreed on the conditions for your\\nassistance. \\n\\nMy life is not safe here and i need to be\\nout of here as soon as possible because now that my\\nfather is dead and with me only as a female child,\\nfirstly the political war crisis are still going on\\nhere in my country and secondly my uncles are seeking\\r\\nto kill me so that they can have all my fathers\\nproperties. \\n\\nI really don't want to struggle anything with them in terms of properties but my presence will still be disturbing them. thank God they are not aware of this fund in the company here hence, I want to\\nleave here as soon as you help me to have the consignment cleared from the security company here and lodge it into a safe account in your stable country and then send me some amount to enable me prepare to\\nmeet you. without your help, i will find it difficult\\nto travel and clear it myself alone with my little or\\r\\nno experience.\\n\\n\\nI am waiting for your urgent reply with your contact\\r\\nphone number so that i can give you the contact of the\\nsecurity for you to contact them as if you are my\\nguardians. and in due course I will provides you the\\nsecret code for opening the consignment when you are\\nready to come on my behalf.\\n\\nThank you so much.\\n\\nBest Regards,\\n\\nMISS SAVANA PRISCA\\n\\n\\n\\n\\n\\nEXP:Mlle SAVANA PRISCA\\nABIDJAN,COTE D' IVOIRE.\\r\\n\\nURGENCE POUR ASSISTANCE  \\n\\nCHER, MR OU MADAME.\\n\\n\\nPermettez-moi de vous informez de mon d\\u00e9sir de\\ntraiter avec vous. En effet j'ai obtenu votre contact\\net j'ai pri\\u00e9 beaucoup pour que vous soyez l'homme\\n\\u00e9vident parmi les noms que j'ai s\\u00e9lectionn\\u00e9s par apport\\n\\u00e0 sa nature estimable, comme \\u00e9tant un homme de parole\\net de confiance auquel je peux traiter avec\\nconform\\u00e9ment \\u00e0 votre grandeur je saurais h\\u00e9siter \\u00e0\\nme confier \\u00e0 vous pour se simple et sinc\\u00e8re business.\\n\\nPermettrez moi de me pr\\u00e9senter \\u00e0 vous. Je suis Mlle\\nSAVANA PRISCA la seul fille du regrett\\u00e9 Mr ou Mme\\nSAVANA Mon p\\u00e8re \\u00e9tait l'un des riches homme marchand\\nde cacao en Cote d'Ivoire, dans la capitale\\n\\u00e9conomique, il a \\u00e9t\\u00e9 empoisonn\\u00e9 par ses coll\\u00e8gues\\npendant qu'ils \\u00e9tait en bateau pour l'importation du\\ncacao. Quant \\u00e0 ma m\\u00e8re elle est morte quant j\\u0092\\u00e9tais\\nencore b\\u00e9b\\u00e9 pour ses raisons mon p\\u00e8re ma trait\\u00e9\\r\\nconvenablement, avant sa mort dans un clinique priv\\u00e9 a\\nAbidjan en novembre 2002 il m'a secr\\u00e8tement appel\\u00e9\\nsur son lit d\\u0092h\\u00f4pital pour me dire qu'il poss\\u00e8de la\\nsomme de huit million cinq cent mille de dollars \\n\\n($8.500,000) la gauche dans une compagnie priv\\u00e9e\\nde s\\u00e9curit\\u00e9 et de finances entretient la maison ici en C\\u00f4te\\nd'Ivoire d\\u0092Abidjan, as des tr\\u00e9sors d'une famille, qui\\nporte mon nom donc, je suis la personne qui peut\\nacc\\u00e9der \\u00e0 cet argent il m'a expliqu\\u00e9 que c'est \\u00e0 cause\\nde son argent qu'il \\u00e0 \\u00e9t\\u00e9 empoisonn\\u00e9. Dans se ca il m'a\\ndit de chercher un partenaire \\u00e9tranger de mon choix ou\\nje pourrais transf\\u00e9rer l'argent et de l'exploiter dans\\ndes diff\\u00e9rents secteurs comme dans le domaine de\\nl'immobilier ou dans l\\u0092h\\u00f4tellerie.\\n\\nCher Mr ou Mme je cherche honorablement votre\\nassistance. Suivez l'instruction ci- dessous.\\n\\nje vous demande humblement votre aide ainsi que des\\nsuggestions et des id\\u00e9es venant de vous seront\\ngrandement appr\\u00e9ci\\u00e9es.\\nMaintenant, je voudrais vous poser quelques questions:\\n1)Pouvez vous m'aider pour les retrait de ces\\nfonds en mon nom dans la garde de s\\u00e9curit\\u00e9 ici \\u00e0 votre\\nextr\\u00e9mit\\u00e9.?\\n2)pourriez-vous m'aider \\u00e0 venir dans votre pays pour\\nfinir mes \\u00e9tudes en m'assurant le g\\u00eete et le couvert?\\n3)pourriez-vous garder cet argent parce que je n'ai\\nque 22 ans?\\n4)est-ce que,je puis compl\\u00e8tement vous faire\\nconfiance?\\n5)pouvez-vous honn\\u00eatement me prendre en tant que vos\\npropres et m'aider? \\n6)quel pourcentage exigerez-vous une fois l'argent\\ndans votre compte?\\nJe vous prie de bien vouloir me donner une r\\u00e9ponse\\nrapide pour que je puisse vous exp\\u00e9dier les documents\\nn\\u00e9cessaires pour cette transaction.\\n\\n\\nMa vie n'est pas en s\\u00e9curit\\u00e9 ici car mes oncles\\nveulent attenter \\u00e0 ma vie pour prendre les autres\\nbiens de mon p\\u00e8re car heureusement ils ne sont pas au\\ncourant de cet argent.\\n\\n\\nJ'attends donc votre num\\u00e9ro de t\\u00e9l\\u00e9phone ainsi que le\\nfax.\\n\\nmerci,\\n\\nMlle SAVANA PRISCA\\n\\n___________________________________________________________________________\\n\\u00a1Terra Banda Ancha, tu conexi\\u00f3n permanente a Internet desde $348 al mes!\\nhttp://www.terra.com.mx/bandaancha\\n\\u00a1Nunca fue tan f\\u00e1cil tener tu p\\u00e1gina en Internet!\\nhttp://sitebuilder.terra.com.mx\\nEncuentra los mejores productos y precios increibles!!\\nhttp://decompras.com.mx\\n\\n\\n\\n\"\n        ],\n        \"semantic_type\": \"\",\n        \"description\": \"\"\n      }\n    },\n    {\n      \"column\": \"urls\",\n      \"properties\": {\n        \"dtype\": \"number\",\n        \"std\": 0,\n        \"min\": 0,\n        \"max\": 1,\n        \"num_unique_values\": 2,\n        \"samples\": [\n          1,\n          0\n        ],\n        \"semantic_type\": \"\",\n        \"description\": \"\"\n      }\n    },\n    {\n      \"column\": \"label\",\n      \"properties\": {\n        \"dtype\": \"number\",\n        \"std\": 0,\n        \"min\": 1,\n        \"max\": 1,\n        \"num_unique_values\": 1,\n        \"samples\": [\n          1\n        ],\n        \"semantic_type\": \"\",\n        \"description\": \"\"\n      }\n    }\n  ]\n}"
            }
          },
          "metadata": {},
          "execution_count": 2
        }
      ]
    },
    {
      "cell_type": "code",
      "source": [
        "df.isnull().sum()"
      ],
      "metadata": {
        "colab": {
          "base_uri": "https://localhost:8080/",
          "height": 303
        },
        "id": "zujL-ZkFTO0n",
        "outputId": "913f9719-ee5d-45d9-b8f9-b57e8d831f99"
      },
      "execution_count": 3,
      "outputs": [
        {
          "output_type": "execute_result",
          "data": {
            "text/plain": [
              "sender       331\n",
              "receiver    1324\n",
              "date         482\n",
              "subject       39\n",
              "body           0\n",
              "urls           0\n",
              "label          0\n",
              "dtype: int64"
            ],
            "text/html": [
              "<div>\n",
              "<style scoped>\n",
              "    .dataframe tbody tr th:only-of-type {\n",
              "        vertical-align: middle;\n",
              "    }\n",
              "\n",
              "    .dataframe tbody tr th {\n",
              "        vertical-align: top;\n",
              "    }\n",
              "\n",
              "    .dataframe thead th {\n",
              "        text-align: right;\n",
              "    }\n",
              "</style>\n",
              "<table border=\"1\" class=\"dataframe\">\n",
              "  <thead>\n",
              "    <tr style=\"text-align: right;\">\n",
              "      <th></th>\n",
              "      <th>0</th>\n",
              "    </tr>\n",
              "  </thead>\n",
              "  <tbody>\n",
              "    <tr>\n",
              "      <th>sender</th>\n",
              "      <td>331</td>\n",
              "    </tr>\n",
              "    <tr>\n",
              "      <th>receiver</th>\n",
              "      <td>1324</td>\n",
              "    </tr>\n",
              "    <tr>\n",
              "      <th>date</th>\n",
              "      <td>482</td>\n",
              "    </tr>\n",
              "    <tr>\n",
              "      <th>subject</th>\n",
              "      <td>39</td>\n",
              "    </tr>\n",
              "    <tr>\n",
              "      <th>body</th>\n",
              "      <td>0</td>\n",
              "    </tr>\n",
              "    <tr>\n",
              "      <th>urls</th>\n",
              "      <td>0</td>\n",
              "    </tr>\n",
              "    <tr>\n",
              "      <th>label</th>\n",
              "      <td>0</td>\n",
              "    </tr>\n",
              "  </tbody>\n",
              "</table>\n",
              "</div><br><label><b>dtype:</b> int64</label>"
            ]
          },
          "metadata": {},
          "execution_count": 3
        }
      ]
    },
    {
      "cell_type": "code",
      "source": [
        "df = df.drop([\"sender\",\"receiver\",\"date\",\"subject\"], axis=1)\n",
        "df.head()"
      ],
      "metadata": {
        "colab": {
          "base_uri": "https://localhost:8080/",
          "height": 206
        },
        "id": "LvMf2nqMTbaq",
        "outputId": "292d507a-321e-42de-d7ba-8559d894fcc9"
      },
      "execution_count": 4,
      "outputs": [
        {
          "output_type": "execute_result",
          "data": {
            "text/plain": [
              "                                                body  urls  label\n",
              "0  FROM:MR. JAMES NGOLA.\\nCONFIDENTIAL TEL: 233-2...     0      1\n",
              "1  Dear Friend,\\n\\nI am Mr. Ben Suleman a custom ...     0      1\n",
              "2  FROM HIS ROYAL MAJESTY (HRM) CROWN RULER OF EL...     0      1\n",
              "3  FROM HIS ROYAL MAJESTY (HRM) CROWN RULER OF EL...     0      1\n",
              "4  Dear sir, \\n \\nIt is with a heart full of hope...     0      1"
            ],
            "text/html": [
              "\n",
              "  <div id=\"df-1ea74831-e425-498a-a1cb-5f61bac1d50d\" class=\"colab-df-container\">\n",
              "    <div>\n",
              "<style scoped>\n",
              "    .dataframe tbody tr th:only-of-type {\n",
              "        vertical-align: middle;\n",
              "    }\n",
              "\n",
              "    .dataframe tbody tr th {\n",
              "        vertical-align: top;\n",
              "    }\n",
              "\n",
              "    .dataframe thead th {\n",
              "        text-align: right;\n",
              "    }\n",
              "</style>\n",
              "<table border=\"1\" class=\"dataframe\">\n",
              "  <thead>\n",
              "    <tr style=\"text-align: right;\">\n",
              "      <th></th>\n",
              "      <th>body</th>\n",
              "      <th>urls</th>\n",
              "      <th>label</th>\n",
              "    </tr>\n",
              "  </thead>\n",
              "  <tbody>\n",
              "    <tr>\n",
              "      <th>0</th>\n",
              "      <td>FROM:MR. JAMES NGOLA.\\nCONFIDENTIAL TEL: 233-2...</td>\n",
              "      <td>0</td>\n",
              "      <td>1</td>\n",
              "    </tr>\n",
              "    <tr>\n",
              "      <th>1</th>\n",
              "      <td>Dear Friend,\\n\\nI am Mr. Ben Suleman a custom ...</td>\n",
              "      <td>0</td>\n",
              "      <td>1</td>\n",
              "    </tr>\n",
              "    <tr>\n",
              "      <th>2</th>\n",
              "      <td>FROM HIS ROYAL MAJESTY (HRM) CROWN RULER OF EL...</td>\n",
              "      <td>0</td>\n",
              "      <td>1</td>\n",
              "    </tr>\n",
              "    <tr>\n",
              "      <th>3</th>\n",
              "      <td>FROM HIS ROYAL MAJESTY (HRM) CROWN RULER OF EL...</td>\n",
              "      <td>0</td>\n",
              "      <td>1</td>\n",
              "    </tr>\n",
              "    <tr>\n",
              "      <th>4</th>\n",
              "      <td>Dear sir, \\n \\nIt is with a heart full of hope...</td>\n",
              "      <td>0</td>\n",
              "      <td>1</td>\n",
              "    </tr>\n",
              "  </tbody>\n",
              "</table>\n",
              "</div>\n",
              "    <div class=\"colab-df-buttons\">\n",
              "\n",
              "  <div class=\"colab-df-container\">\n",
              "    <button class=\"colab-df-convert\" onclick=\"convertToInteractive('df-1ea74831-e425-498a-a1cb-5f61bac1d50d')\"\n",
              "            title=\"Convert this dataframe to an interactive table.\"\n",
              "            style=\"display:none;\">\n",
              "\n",
              "  <svg xmlns=\"http://www.w3.org/2000/svg\" height=\"24px\" viewBox=\"0 -960 960 960\">\n",
              "    <path d=\"M120-120v-720h720v720H120Zm60-500h600v-160H180v160Zm220 220h160v-160H400v160Zm0 220h160v-160H400v160ZM180-400h160v-160H180v160Zm440 0h160v-160H620v160ZM180-180h160v-160H180v160Zm440 0h160v-160H620v160Z\"/>\n",
              "  </svg>\n",
              "    </button>\n",
              "\n",
              "  <style>\n",
              "    .colab-df-container {\n",
              "      display:flex;\n",
              "      gap: 12px;\n",
              "    }\n",
              "\n",
              "    .colab-df-convert {\n",
              "      background-color: #E8F0FE;\n",
              "      border: none;\n",
              "      border-radius: 50%;\n",
              "      cursor: pointer;\n",
              "      display: none;\n",
              "      fill: #1967D2;\n",
              "      height: 32px;\n",
              "      padding: 0 0 0 0;\n",
              "      width: 32px;\n",
              "    }\n",
              "\n",
              "    .colab-df-convert:hover {\n",
              "      background-color: #E2EBFA;\n",
              "      box-shadow: 0px 1px 2px rgba(60, 64, 67, 0.3), 0px 1px 3px 1px rgba(60, 64, 67, 0.15);\n",
              "      fill: #174EA6;\n",
              "    }\n",
              "\n",
              "    .colab-df-buttons div {\n",
              "      margin-bottom: 4px;\n",
              "    }\n",
              "\n",
              "    [theme=dark] .colab-df-convert {\n",
              "      background-color: #3B4455;\n",
              "      fill: #D2E3FC;\n",
              "    }\n",
              "\n",
              "    [theme=dark] .colab-df-convert:hover {\n",
              "      background-color: #434B5C;\n",
              "      box-shadow: 0px 1px 3px 1px rgba(0, 0, 0, 0.15);\n",
              "      filter: drop-shadow(0px 1px 2px rgba(0, 0, 0, 0.3));\n",
              "      fill: #FFFFFF;\n",
              "    }\n",
              "  </style>\n",
              "\n",
              "    <script>\n",
              "      const buttonEl =\n",
              "        document.querySelector('#df-1ea74831-e425-498a-a1cb-5f61bac1d50d button.colab-df-convert');\n",
              "      buttonEl.style.display =\n",
              "        google.colab.kernel.accessAllowed ? 'block' : 'none';\n",
              "\n",
              "      async function convertToInteractive(key) {\n",
              "        const element = document.querySelector('#df-1ea74831-e425-498a-a1cb-5f61bac1d50d');\n",
              "        const dataTable =\n",
              "          await google.colab.kernel.invokeFunction('convertToInteractive',\n",
              "                                                    [key], {});\n",
              "        if (!dataTable) return;\n",
              "\n",
              "        const docLinkHtml = 'Like what you see? Visit the ' +\n",
              "          '<a target=\"_blank\" href=https://colab.research.google.com/notebooks/data_table.ipynb>data table notebook</a>'\n",
              "          + ' to learn more about interactive tables.';\n",
              "        element.innerHTML = '';\n",
              "        dataTable['output_type'] = 'display_data';\n",
              "        await google.colab.output.renderOutput(dataTable, element);\n",
              "        const docLink = document.createElement('div');\n",
              "        docLink.innerHTML = docLinkHtml;\n",
              "        element.appendChild(docLink);\n",
              "      }\n",
              "    </script>\n",
              "  </div>\n",
              "\n",
              "\n",
              "<div id=\"df-719214a5-61a2-49da-8fb4-659387b58883\">\n",
              "  <button class=\"colab-df-quickchart\" onclick=\"quickchart('df-719214a5-61a2-49da-8fb4-659387b58883')\"\n",
              "            title=\"Suggest charts\"\n",
              "            style=\"display:none;\">\n",
              "\n",
              "<svg xmlns=\"http://www.w3.org/2000/svg\" height=\"24px\"viewBox=\"0 0 24 24\"\n",
              "     width=\"24px\">\n",
              "    <g>\n",
              "        <path d=\"M19 3H5c-1.1 0-2 .9-2 2v14c0 1.1.9 2 2 2h14c1.1 0 2-.9 2-2V5c0-1.1-.9-2-2-2zM9 17H7v-7h2v7zm4 0h-2V7h2v10zm4 0h-2v-4h2v4z\"/>\n",
              "    </g>\n",
              "</svg>\n",
              "  </button>\n",
              "\n",
              "<style>\n",
              "  .colab-df-quickchart {\n",
              "      --bg-color: #E8F0FE;\n",
              "      --fill-color: #1967D2;\n",
              "      --hover-bg-color: #E2EBFA;\n",
              "      --hover-fill-color: #174EA6;\n",
              "      --disabled-fill-color: #AAA;\n",
              "      --disabled-bg-color: #DDD;\n",
              "  }\n",
              "\n",
              "  [theme=dark] .colab-df-quickchart {\n",
              "      --bg-color: #3B4455;\n",
              "      --fill-color: #D2E3FC;\n",
              "      --hover-bg-color: #434B5C;\n",
              "      --hover-fill-color: #FFFFFF;\n",
              "      --disabled-bg-color: #3B4455;\n",
              "      --disabled-fill-color: #666;\n",
              "  }\n",
              "\n",
              "  .colab-df-quickchart {\n",
              "    background-color: var(--bg-color);\n",
              "    border: none;\n",
              "    border-radius: 50%;\n",
              "    cursor: pointer;\n",
              "    display: none;\n",
              "    fill: var(--fill-color);\n",
              "    height: 32px;\n",
              "    padding: 0;\n",
              "    width: 32px;\n",
              "  }\n",
              "\n",
              "  .colab-df-quickchart:hover {\n",
              "    background-color: var(--hover-bg-color);\n",
              "    box-shadow: 0 1px 2px rgba(60, 64, 67, 0.3), 0 1px 3px 1px rgba(60, 64, 67, 0.15);\n",
              "    fill: var(--button-hover-fill-color);\n",
              "  }\n",
              "\n",
              "  .colab-df-quickchart-complete:disabled,\n",
              "  .colab-df-quickchart-complete:disabled:hover {\n",
              "    background-color: var(--disabled-bg-color);\n",
              "    fill: var(--disabled-fill-color);\n",
              "    box-shadow: none;\n",
              "  }\n",
              "\n",
              "  .colab-df-spinner {\n",
              "    border: 2px solid var(--fill-color);\n",
              "    border-color: transparent;\n",
              "    border-bottom-color: var(--fill-color);\n",
              "    animation:\n",
              "      spin 1s steps(1) infinite;\n",
              "  }\n",
              "\n",
              "  @keyframes spin {\n",
              "    0% {\n",
              "      border-color: transparent;\n",
              "      border-bottom-color: var(--fill-color);\n",
              "      border-left-color: var(--fill-color);\n",
              "    }\n",
              "    20% {\n",
              "      border-color: transparent;\n",
              "      border-left-color: var(--fill-color);\n",
              "      border-top-color: var(--fill-color);\n",
              "    }\n",
              "    30% {\n",
              "      border-color: transparent;\n",
              "      border-left-color: var(--fill-color);\n",
              "      border-top-color: var(--fill-color);\n",
              "      border-right-color: var(--fill-color);\n",
              "    }\n",
              "    40% {\n",
              "      border-color: transparent;\n",
              "      border-right-color: var(--fill-color);\n",
              "      border-top-color: var(--fill-color);\n",
              "    }\n",
              "    60% {\n",
              "      border-color: transparent;\n",
              "      border-right-color: var(--fill-color);\n",
              "    }\n",
              "    80% {\n",
              "      border-color: transparent;\n",
              "      border-right-color: var(--fill-color);\n",
              "      border-bottom-color: var(--fill-color);\n",
              "    }\n",
              "    90% {\n",
              "      border-color: transparent;\n",
              "      border-bottom-color: var(--fill-color);\n",
              "    }\n",
              "  }\n",
              "</style>\n",
              "\n",
              "  <script>\n",
              "    async function quickchart(key) {\n",
              "      const quickchartButtonEl =\n",
              "        document.querySelector('#' + key + ' button');\n",
              "      quickchartButtonEl.disabled = true;  // To prevent multiple clicks.\n",
              "      quickchartButtonEl.classList.add('colab-df-spinner');\n",
              "      try {\n",
              "        const charts = await google.colab.kernel.invokeFunction(\n",
              "            'suggestCharts', [key], {});\n",
              "      } catch (error) {\n",
              "        console.error('Error during call to suggestCharts:', error);\n",
              "      }\n",
              "      quickchartButtonEl.classList.remove('colab-df-spinner');\n",
              "      quickchartButtonEl.classList.add('colab-df-quickchart-complete');\n",
              "    }\n",
              "    (() => {\n",
              "      let quickchartButtonEl =\n",
              "        document.querySelector('#df-719214a5-61a2-49da-8fb4-659387b58883 button');\n",
              "      quickchartButtonEl.style.display =\n",
              "        google.colab.kernel.accessAllowed ? 'block' : 'none';\n",
              "    })();\n",
              "  </script>\n",
              "</div>\n",
              "\n",
              "    </div>\n",
              "  </div>\n"
            ],
            "application/vnd.google.colaboratory.intrinsic+json": {
              "type": "dataframe",
              "variable_name": "df",
              "summary": "{\n  \"name\": \"df\",\n  \"rows\": 3332,\n  \"fields\": [\n    {\n      \"column\": \"body\",\n      \"properties\": {\n        \"dtype\": \"string\",\n        \"num_unique_values\": 3332,\n        \"samples\": [\n          \"Dear Friend,\\n\\nWarmest greetings in the name of ALLAH,the most gracious. I pray that he may grant you the wisdom to understand the pathetic story i am about to tell and the courage to offer the much needed support i solicite for in this letter.\\n\\nI am a mother of two and the wife of late General YOUSSEF EL HADIDI of the defuct Republican Guard of ousted President Saddam Hussein . During the hay days of ex-president Saddam rulership in iraq my late husband was head of secret Army's procurement unit of the Republican Guard. His position and resposibility  availed him with so much power and financial liquidity that he was able to amass substantial amount of money some of which he wisely move to secret custody  out side iraq. Having forseen the caputilation of Saddam Hussein government my late husband quietly moved his family (my two kids & I) to Europe and tried to desert the Iraqi Army to join us in Europe, but was cought up  with by the dangerosu secret security mechinary  of Saddam. He was brutally murdered on the order of Saddam himself and all our properties and estate including bank account were consficated by the infamosu regime. \\nEver since my kids and i have lived in pennary until we uncovered through the help of his life -long solicitor some funds he left in a safe custody in London here.\\n\\nIt is for the purpose of entrusting and investing this huge fund with little or no trace to our family that i send you this propostition. The funds in question is $35 Million (Thirty Five Million) and is presently deposited in a trust company awaiting directives from me as my husband next of kin to move it.\\n\\nIt is true that i have never known you but i am desprately in need of somebody to trust, it has become a matter of expediency and total surrended to the will of God , the Almighty. \\nIf you do  understand my story willing and capable of handling this trustteeship proposition, kindly oblige me by sending your personal and business profile including all contact details for us to move forward without delay. You can reach me direclt on my fax +447092041337.\\n\\nAwaiting your response,\\nYours truly,\\nJumai Hadidi\\nTel/fax: 4470920341337  \",\n          \"Dear Sir / Madam,\\nI am Mr Mathias Seah, from Ivory Coast Abidjan but residing in \\nDakar Senegal in Africa. \\nIt is my desire to contact you on honesty and sincerity to assist me \\nin transferring the sum of $8,500,000(Eight Million Five Hundred Thousand \\nUnited States Dollars) inherited from my father late Dr. Seah Ahmed, to your \\ncountry for investment. \\nI am motivated in contacting you and hope to gradually build trust,\\nrelationship and confidence in you as I get to know you better. \\nSo please I want to know if you will be of assistance but first I want \\nto get to know you better. \\nI am willing to offer you 35%(of the total fund, for your effort input \\nafter the successful transfer of this money and investment. \\nIndicate your interest towards assisting me by sending your phone #and\\naddress to me so that I can communicate with you at any time. \\nI will be waiting for your response. My althernative email: \\nmathias_seah@yahoo.fr ( mathias_seah@inMail24.com\\n) reply as soon as \\npossible for more details. \\nThanks\\nMr Mathias Seah\\n \",\n          \"FROM MISS SAVANA PRISCA\\nABIDJAN.IVORY COAST.\\nCOTE D'IVOIRE.\\n\\nAPPEAL FOR URGENT ASSISTANCE.\\n\\nDear Sir,\\n\\nPermit me to inform you of my desire of going into\\nbusiness relationship with you.Though this letter will\\r\\nbe a surprise  to you since you dont know me\\npersonally I got your contacts recent .during my\\nsearch for a stranger that can cooperate help me in\\nthis mutual transaction. and I prayed over it and\\nselected your name among the other names due to its\\nesteeming nature and the recommations given to me as a\\nreputable and trust worthy person that I can do\\nbusiness with and by the recommendation, I must not\\nhesitate to confide in you for this simple and sincere\\nBusiness. \\n\\n\\nI am MISS SAVANA PRISCA, the only daughter of late Mr.\\nAnd MrsSAVANA My father was a very wealth cocoa\\nmerchant in Abidjan, the economic capital of Ivory\\nCoast, my father died during the political war crisis\\nthat going on in my country here in ivory coast(cote\\nd'ivoire)My mother died when I was a baby when she was\\nabout to delivers a new baby and since then my father\\ntook me so special. \\n\\nBefore the death of my father on november 2002 in a private hospital herein Abidjan he secretly called me on his bed side and told me that he has the sum of Eight Million,Five Hundred Thousand\\nUnited State Dollars. USD($8.500,000) left in one of\\nthe private security/finances trust services house\\nhere in Abidjan Ivory Coast ,as a family treasures\\nthat he used my names her only daughter for the next\\nof kin in depositing of the fund. He also explained to\\nme that he might not survive the situation he was at\\nthat present.\\n\\nHowever That I should seek for a foreign partner in a\\ncountry of my choice where I will transfer this money\\nand use it for investment purpose such as real estate\\nmanagement or hotel management.\\n\\nSir,I am in a sincere desire of your humble assistance\\nin this regards again.Your suggestions and ideas will\\nbe highly regarded.\\n\\r\\n\\nNow permit me to ask these few questions:- \\n(1)Can you help me for the retrievements of this fund\\non my behalf in the security custody here to your end?\\n\\n(2)Can you stand as a guardian of this since fund\\nsince I am only 22 years old?\\n\\n(3)Can you make an arrangement for me to come over to\\nyour country to further my Education and to secure a\\nresident permit in your country?\\n\\n(4) Can you honestly take me as your own and help me? \\n\\n(5) Can I completely trust you? \\n\\n(6) What percentage of the total amount in question\\n\\nwill be go for you after the money is in your\\r\\naccount? \\n\\nPlease,Consider this and get back to me as soon as\\npossible so that i can forward the documents to you\\nafter we have agreed on the conditions for your\\nassistance. \\n\\nMy life is not safe here and i need to be\\nout of here as soon as possible because now that my\\nfather is dead and with me only as a female child,\\nfirstly the political war crisis are still going on\\nhere in my country and secondly my uncles are seeking\\r\\nto kill me so that they can have all my fathers\\nproperties. \\n\\nI really don't want to struggle anything with them in terms of properties but my presence will still be disturbing them. thank God they are not aware of this fund in the company here hence, I want to\\nleave here as soon as you help me to have the consignment cleared from the security company here and lodge it into a safe account in your stable country and then send me some amount to enable me prepare to\\nmeet you. without your help, i will find it difficult\\nto travel and clear it myself alone with my little or\\r\\nno experience.\\n\\n\\nI am waiting for your urgent reply with your contact\\r\\nphone number so that i can give you the contact of the\\nsecurity for you to contact them as if you are my\\nguardians. and in due course I will provides you the\\nsecret code for opening the consignment when you are\\nready to come on my behalf.\\n\\nThank you so much.\\n\\nBest Regards,\\n\\nMISS SAVANA PRISCA\\n\\n\\n\\n\\n\\nEXP:Mlle SAVANA PRISCA\\nABIDJAN,COTE D' IVOIRE.\\r\\n\\nURGENCE POUR ASSISTANCE  \\n\\nCHER, MR OU MADAME.\\n\\n\\nPermettez-moi de vous informez de mon d\\u00e9sir de\\ntraiter avec vous. En effet j'ai obtenu votre contact\\net j'ai pri\\u00e9 beaucoup pour que vous soyez l'homme\\n\\u00e9vident parmi les noms que j'ai s\\u00e9lectionn\\u00e9s par apport\\n\\u00e0 sa nature estimable, comme \\u00e9tant un homme de parole\\net de confiance auquel je peux traiter avec\\nconform\\u00e9ment \\u00e0 votre grandeur je saurais h\\u00e9siter \\u00e0\\nme confier \\u00e0 vous pour se simple et sinc\\u00e8re business.\\n\\nPermettrez moi de me pr\\u00e9senter \\u00e0 vous. Je suis Mlle\\nSAVANA PRISCA la seul fille du regrett\\u00e9 Mr ou Mme\\nSAVANA Mon p\\u00e8re \\u00e9tait l'un des riches homme marchand\\nde cacao en Cote d'Ivoire, dans la capitale\\n\\u00e9conomique, il a \\u00e9t\\u00e9 empoisonn\\u00e9 par ses coll\\u00e8gues\\npendant qu'ils \\u00e9tait en bateau pour l'importation du\\ncacao. Quant \\u00e0 ma m\\u00e8re elle est morte quant j\\u0092\\u00e9tais\\nencore b\\u00e9b\\u00e9 pour ses raisons mon p\\u00e8re ma trait\\u00e9\\r\\nconvenablement, avant sa mort dans un clinique priv\\u00e9 a\\nAbidjan en novembre 2002 il m'a secr\\u00e8tement appel\\u00e9\\nsur son lit d\\u0092h\\u00f4pital pour me dire qu'il poss\\u00e8de la\\nsomme de huit million cinq cent mille de dollars \\n\\n($8.500,000) la gauche dans une compagnie priv\\u00e9e\\nde s\\u00e9curit\\u00e9 et de finances entretient la maison ici en C\\u00f4te\\nd'Ivoire d\\u0092Abidjan, as des tr\\u00e9sors d'une famille, qui\\nporte mon nom donc, je suis la personne qui peut\\nacc\\u00e9der \\u00e0 cet argent il m'a expliqu\\u00e9 que c'est \\u00e0 cause\\nde son argent qu'il \\u00e0 \\u00e9t\\u00e9 empoisonn\\u00e9. Dans se ca il m'a\\ndit de chercher un partenaire \\u00e9tranger de mon choix ou\\nje pourrais transf\\u00e9rer l'argent et de l'exploiter dans\\ndes diff\\u00e9rents secteurs comme dans le domaine de\\nl'immobilier ou dans l\\u0092h\\u00f4tellerie.\\n\\nCher Mr ou Mme je cherche honorablement votre\\nassistance. Suivez l'instruction ci- dessous.\\n\\nje vous demande humblement votre aide ainsi que des\\nsuggestions et des id\\u00e9es venant de vous seront\\ngrandement appr\\u00e9ci\\u00e9es.\\nMaintenant, je voudrais vous poser quelques questions:\\n1)Pouvez vous m'aider pour les retrait de ces\\nfonds en mon nom dans la garde de s\\u00e9curit\\u00e9 ici \\u00e0 votre\\nextr\\u00e9mit\\u00e9.?\\n2)pourriez-vous m'aider \\u00e0 venir dans votre pays pour\\nfinir mes \\u00e9tudes en m'assurant le g\\u00eete et le couvert?\\n3)pourriez-vous garder cet argent parce que je n'ai\\nque 22 ans?\\n4)est-ce que,je puis compl\\u00e8tement vous faire\\nconfiance?\\n5)pouvez-vous honn\\u00eatement me prendre en tant que vos\\npropres et m'aider? \\n6)quel pourcentage exigerez-vous une fois l'argent\\ndans votre compte?\\nJe vous prie de bien vouloir me donner une r\\u00e9ponse\\nrapide pour que je puisse vous exp\\u00e9dier les documents\\nn\\u00e9cessaires pour cette transaction.\\n\\n\\nMa vie n'est pas en s\\u00e9curit\\u00e9 ici car mes oncles\\nveulent attenter \\u00e0 ma vie pour prendre les autres\\nbiens de mon p\\u00e8re car heureusement ils ne sont pas au\\ncourant de cet argent.\\n\\n\\nJ'attends donc votre num\\u00e9ro de t\\u00e9l\\u00e9phone ainsi que le\\nfax.\\n\\nmerci,\\n\\nMlle SAVANA PRISCA\\n\\n___________________________________________________________________________\\n\\u00a1Terra Banda Ancha, tu conexi\\u00f3n permanente a Internet desde $348 al mes!\\nhttp://www.terra.com.mx/bandaancha\\n\\u00a1Nunca fue tan f\\u00e1cil tener tu p\\u00e1gina en Internet!\\nhttp://sitebuilder.terra.com.mx\\nEncuentra los mejores productos y precios increibles!!\\nhttp://decompras.com.mx\\n\\n\\n\\n\"\n        ],\n        \"semantic_type\": \"\",\n        \"description\": \"\"\n      }\n    },\n    {\n      \"column\": \"urls\",\n      \"properties\": {\n        \"dtype\": \"number\",\n        \"std\": 0,\n        \"min\": 0,\n        \"max\": 1,\n        \"num_unique_values\": 2,\n        \"samples\": [\n          1,\n          0\n        ],\n        \"semantic_type\": \"\",\n        \"description\": \"\"\n      }\n    },\n    {\n      \"column\": \"label\",\n      \"properties\": {\n        \"dtype\": \"number\",\n        \"std\": 0,\n        \"min\": 1,\n        \"max\": 1,\n        \"num_unique_values\": 1,\n        \"samples\": [\n          1\n        ],\n        \"semantic_type\": \"\",\n        \"description\": \"\"\n      }\n    }\n  ]\n}"
            }
          },
          "metadata": {},
          "execution_count": 4
        }
      ]
    },
    {
      "cell_type": "code",
      "source": [
        "df.info()"
      ],
      "metadata": {
        "colab": {
          "base_uri": "https://localhost:8080/"
        },
        "id": "rc5FjVbBTo0c",
        "outputId": "492fdb95-f2d0-4c8c-e8b3-86417eff143c"
      },
      "execution_count": 5,
      "outputs": [
        {
          "output_type": "stream",
          "name": "stdout",
          "text": [
            "<class 'pandas.core.frame.DataFrame'>\n",
            "RangeIndex: 3332 entries, 0 to 3331\n",
            "Data columns (total 3 columns):\n",
            " #   Column  Non-Null Count  Dtype \n",
            "---  ------  --------------  ----- \n",
            " 0   body    3332 non-null   object\n",
            " 1   urls    3332 non-null   int64 \n",
            " 2   label   3332 non-null   int64 \n",
            "dtypes: int64(2), object(1)\n",
            "memory usage: 78.2+ KB\n"
          ]
        }
      ]
    },
    {
      "cell_type": "code",
      "source": [
        "df[\"urls\"].value_counts()"
      ],
      "metadata": {
        "colab": {
          "base_uri": "https://localhost:8080/",
          "height": 178
        },
        "id": "V3uu2OWUTriw",
        "outputId": "933a3906-2b74-4aaa-d341-60c6dc98444d"
      },
      "execution_count": 7,
      "outputs": [
        {
          "output_type": "execute_result",
          "data": {
            "text/plain": [
              "urls\n",
              "0    2183\n",
              "1    1149\n",
              "Name: count, dtype: int64"
            ],
            "text/html": [
              "<div>\n",
              "<style scoped>\n",
              "    .dataframe tbody tr th:only-of-type {\n",
              "        vertical-align: middle;\n",
              "    }\n",
              "\n",
              "    .dataframe tbody tr th {\n",
              "        vertical-align: top;\n",
              "    }\n",
              "\n",
              "    .dataframe thead th {\n",
              "        text-align: right;\n",
              "    }\n",
              "</style>\n",
              "<table border=\"1\" class=\"dataframe\">\n",
              "  <thead>\n",
              "    <tr style=\"text-align: right;\">\n",
              "      <th></th>\n",
              "      <th>count</th>\n",
              "    </tr>\n",
              "    <tr>\n",
              "      <th>urls</th>\n",
              "      <th></th>\n",
              "    </tr>\n",
              "  </thead>\n",
              "  <tbody>\n",
              "    <tr>\n",
              "      <th>0</th>\n",
              "      <td>2183</td>\n",
              "    </tr>\n",
              "    <tr>\n",
              "      <th>1</th>\n",
              "      <td>1149</td>\n",
              "    </tr>\n",
              "  </tbody>\n",
              "</table>\n",
              "</div><br><label><b>dtype:</b> int64</label>"
            ]
          },
          "metadata": {},
          "execution_count": 7
        }
      ]
    },
    {
      "cell_type": "code",
      "source": [
        "nltk.download('stopwords')\n",
        "nltk.download('wordnet')\n",
        "nltk.download('omw-1.4')\n",
        "stop_words = set(stopwords.words('english'))\n",
        "lemmatizer = WordNetLemmatizer()\n",
        "def clean_text(text):\n",
        "    if isinstance(text, str):  # Check if input is a string\n",
        "        text = re.sub('[^a-zA-Z]', ' ', text)  # Remove non-alphabetic characters\n",
        "        text = text.lower().split()\n",
        "        text = [lemmatizer.lemmatize(word) for word in text if word not in stop_words]\n",
        "        return ' '.join(text)\n",
        "    return \"\"  # Return an empty string if the input is not a string\n",
        "df['clean_body'] = df['body'].astype(str).apply(clean_text)  # Ensure the 'sms' column is of type string"
      ],
      "metadata": {
        "colab": {
          "base_uri": "https://localhost:8080/"
        },
        "id": "-W1yw-V2VZU-",
        "outputId": "4dcbd360-a514-47b6-ecc4-0d7df62a9b41"
      },
      "execution_count": 8,
      "outputs": [
        {
          "output_type": "stream",
          "name": "stderr",
          "text": [
            "[nltk_data] Downloading package stopwords to /root/nltk_data...\n",
            "[nltk_data]   Unzipping corpora/stopwords.zip.\n",
            "[nltk_data] Downloading package wordnet to /root/nltk_data...\n",
            "[nltk_data] Downloading package omw-1.4 to /root/nltk_data...\n"
          ]
        }
      ]
    },
    {
      "cell_type": "code",
      "source": [
        "# Train-Test Split\n",
        "X = df['clean_body']\n",
        "y = df['urls']\n",
        "X_train, X_test, y_train, y_test = train_test_split(X, y, test_size=0.2, random_state=42)"
      ],
      "metadata": {
        "id": "deWCCYKlVeKX"
      },
      "execution_count": 9,
      "outputs": []
    },
    {
      "cell_type": "code",
      "source": [
        "# Bag of Words\n",
        "bow_vectorizer = CountVectorizer(max_features=5000)\n",
        "X_train_bow = bow_vectorizer.fit_transform(X_train)\n",
        "X_test_bow = bow_vectorizer.transform(X_test)\n",
        "smote = SMOTE(random_state=42)\n",
        "X_train_bow, y_train_resampled = smote.fit_resample(X_train_bow, y_train)"
      ],
      "metadata": {
        "id": "NNDyvYFVVlX3"
      },
      "execution_count": 10,
      "outputs": []
    },
    {
      "cell_type": "markdown",
      "source": [
        "**RANDOM FOREST ALGORITHM**"
      ],
      "metadata": {
        "id": "2XynQaLLVw-m"
      }
    },
    {
      "cell_type": "code",
      "source": [
        "# Random Forest\n",
        "rf = RandomForestClassifier(n_estimators=100)\n",
        "rf.fit(X_train_bow, y_train_resampled)\n",
        "pred_rf_bow = rf.predict(X_test_bow)\n",
        "print(\"Random Forest (BoW):\\n\", classification_report(y_test, pred_rf_bow))"
      ],
      "metadata": {
        "colab": {
          "base_uri": "https://localhost:8080/"
        },
        "id": "cgqa1SDAVq0g",
        "outputId": "5d36fd74-e2dc-4aa3-90b7-e30279a0f1c5"
      },
      "execution_count": 12,
      "outputs": [
        {
          "output_type": "stream",
          "name": "stdout",
          "text": [
            "Random Forest (BoW):\n",
            "               precision    recall  f1-score   support\n",
            "\n",
            "           0       0.94      0.96      0.95       459\n",
            "           1       0.90      0.87      0.88       208\n",
            "\n",
            "    accuracy                           0.93       667\n",
            "   macro avg       0.92      0.91      0.92       667\n",
            "weighted avg       0.93      0.93      0.93       667\n",
            "\n"
          ]
        }
      ]
    },
    {
      "cell_type": "code",
      "source": [
        "# Compute confusion matrix\n",
        "cm = confusion_matrix(y_test, pred_rf_bow)\n",
        "# Normalize by row (actual class) to get percentage\n",
        "cm_percent = cm.astype('float') / cm.sum(axis=1)[:, np.newaxis] * 100\n",
        "# Format each cell as a percentage string\n",
        "labels = np.array([[\"{0:.2f}%\".format(value) for value in row] for row in cm_percent])\n",
        "# Define class labels\n",
        "class_names = [\"LEGITIMATE\", \"SPAM\"]\n",
        "# Plot heatmap\n",
        "plt.figure(figsize=(5, 5))\n",
        "sns.heatmap(cm_percent, annot=labels, fmt='', cmap=\"YlGnBu\", cbar=True,\n",
        "            xticklabels=class_names,\n",
        "            yticklabels=class_names)\n",
        "plt.title(\"Confusion Matrix using RF Classifier\")\n",
        "plt.xlabel(\"Predicted Label\")\n",
        "plt.ylabel(\"Actual Label\")\n",
        "plt.tight_layout()\n",
        "plt.show()"
      ],
      "metadata": {
        "colab": {
          "base_uri": "https://localhost:8080/",
          "height": 507
        },
        "id": "TL5NFnOHVuSL",
        "outputId": "09de0fb0-62d4-4ad6-d680-9a81cd2dfabb"
      },
      "execution_count": 14,
      "outputs": [
        {
          "output_type": "display_data",
          "data": {
            "text/plain": [
              "<Figure size 500x500 with 2 Axes>"
            ],
            "image/png": "[encoded data removed]"
          },
          "metadata": {}
        }
      ]
    },
    {
      "cell_type": "markdown",
      "source": [
        "**XGBOOST**"
      ],
      "metadata": {
        "id": "CSDRWXVDWaVb"
      }
    },
    {
      "cell_type": "code",
      "source": [
        "# XGBoost\n",
        "xgb = XGBClassifier(n_estimators = 100, eval_metric='logloss')\n",
        "xgb.fit(X_train_bow, y_train_resampled)\n",
        "pred_xgb_bow = xgb.predict(X_test_bow)\n",
        "print(\"XGBoost (BoW):\\n\", classification_report(y_test, pred_xgb_bow))"
      ],
      "metadata": {
        "colab": {
          "base_uri": "https://localhost:8080/"
        },
        "id": "5GqxTYs_WUkX",
        "outputId": "fe142e91-27f6-4b56-e897-15af868d8276"
      },
      "execution_count": 15,
      "outputs": [
        {
          "output_type": "stream",
          "name": "stdout",
          "text": [
            "XGBoost (BoW):\n",
            "               precision    recall  f1-score   support\n",
            "\n",
            "           0       0.98      0.99      0.98       459\n",
            "           1       0.98      0.95      0.96       208\n",
            "\n",
            "    accuracy                           0.98       667\n",
            "   macro avg       0.98      0.97      0.97       667\n",
            "weighted avg       0.98      0.98      0.98       667\n",
            "\n"
          ]
        }
      ]
    },
    {
      "cell_type": "code",
      "source": [
        "# Compute confusion matrix\n",
        "cm = confusion_matrix(y_test, pred_xgb_bow)\n",
        "# Normalize by row (actual class) to get percentage\n",
        "cm_percent = cm.astype('float') / cm.sum(axis=1)[:, np.newaxis] * 100\n",
        "# Format each cell as a percentage string\n",
        "labels = np.array([[\"{0:.2f}%\".format(value) for value in row] for row in cm_percent])\n",
        "# Define class labels\n",
        "class_names = [\"LEGITIMATE\", \"SPAM\"]\n",
        "# Plot heatmap\n",
        "plt.figure(figsize=(5, 5))\n",
        "sns.heatmap(cm_percent, annot=labels, fmt='', cmap=\"YlGnBu\", cbar=True,\n",
        "            xticklabels=class_names,\n",
        "            yticklabels=class_names)\n",
        "plt.title(\"Confusion Matrix using XGBOOST Classifier\")\n",
        "plt.xlabel(\"Predicted Label\")\n",
        "plt.ylabel(\"Actual Label\")\n",
        "plt.tight_layout()\n",
        "plt.show()"
      ],
      "metadata": {
        "colab": {
          "base_uri": "https://localhost:8080/",
          "height": 507
        },
        "id": "WaCs0RdGWg6G",
        "outputId": "e4e25099-3d21-40fc-ac1f-d7359fa6c942"
      },
      "execution_count": 16,
      "outputs": [
        {
          "output_type": "display_data",
          "data": {
            "text/plain": [
              "<Figure size 500x500 with 2 Axes>"
            ],
            "image/png": "[encoded data removed]"
          },
          "metadata": {}
        }
      ]
    },
    {
      "cell_type": "code",
      "source": [
        "rf_acc = accuracy_score(y_test, pred_rf_bow)\n",
        "xgb_acc = accuracy_score(y_test, pred_xgb_bow)\n",
        "# Store accuracy results\n",
        "accuracy_results = {\n",
        "    'Random Forest': rf_acc,\n",
        "    'XGBoost': xgb_acc\n",
        "}\n",
        "results = pd.DataFrame(list(accuracy_results.items()), columns=['Model', 'Accuracy'])\n",
        "# Plot bar chart\n",
        "plt.figure(figsize=(8, 5))\n",
        "sns.barplot(x='Model', y='Accuracy', data = results, palette='viridis')\n",
        "# Add values on top of the bars\n",
        "for i, value in enumerate(accuracy_results.values()):\n",
        "    plt.text(i, value + 0.002, f\"{value:.4f}\", ha='center', fontsize=12, fontweight='bold')\n",
        "plt.title('Accuracy Comparison of ML Models using Bag of WOrds', fontsize=14)\n",
        "plt.ylabel('Accuracy Score')\n",
        "plt.ylim(0.5, 1.0)  # Adjust based on expected accuracy range\n",
        "plt.show()"
      ],
      "metadata": {
        "colab": {
          "base_uri": "https://localhost:8080/",
          "height": 488
        },
        "id": "mPOVqnZoWtG5",
        "outputId": "93b639ea-ae51-4054-8483-aed5615251a7"
      },
      "execution_count": 21,
      "outputs": [
        {
          "output_type": "display_data",
          "data": {
            "text/plain": [
              "<Figure size 800x500 with 1 Axes>"
            ],
            "image/png": "[encoded data removed]"
          },
          "metadata": {}
        }
      ]
    },
    {
      "cell_type": "markdown",
      "source": [
        "**USING TFIDF**"
      ],
      "metadata": {
        "id": "qLOv3WYZXCZD"
      }
    },
    {
      "cell_type": "code",
      "source": [
        "# TF-IDF\n",
        "tfidf_vectorizer = TfidfVectorizer(max_features=5000)\n",
        "X_train_tfidf = tfidf_vectorizer.fit_transform(X_train)\n",
        "X_test_tfidf = tfidf_vectorizer.transform(X_test)\n",
        "smote = SMOTE(random_state=42)\n",
        "X_train_tfidf, y_train_resampled = smote.fit_resample(X_train_tfidf, y_train)"
      ],
      "metadata": {
        "id": "A_i8X78vW5Mp"
      },
      "execution_count": 19,
      "outputs": []
    },
    {
      "cell_type": "markdown",
      "source": [
        "**RF**"
      ],
      "metadata": {
        "id": "4b7Vd6MNXQG-"
      }
    },
    {
      "cell_type": "code",
      "source": [
        "# Random Forest\n",
        "rf = RandomForestClassifier(n_estimators=100)\n",
        "rf.fit(X_train_tfidf, y_train_resampled)\n",
        "pred_rf_tfidf = rf.predict(X_test_tfidf)\n",
        "print(\"Random Forest (TF-IDF):\\n\", classification_report(y_test, pred_rf_tfidf))"
      ],
      "metadata": {
        "colab": {
          "base_uri": "https://localhost:8080/"
        },
        "id": "nI3301VEXNeY",
        "outputId": "5f42af70-9bb0-4bdd-8f3d-c9c75834340f"
      },
      "execution_count": 20,
      "outputs": [
        {
          "output_type": "stream",
          "name": "stdout",
          "text": [
            "Random Forest (TF-IDF):\n",
            "               precision    recall  f1-score   support\n",
            "\n",
            "           0       0.97      0.97      0.97       459\n",
            "           1       0.92      0.93      0.93       208\n",
            "\n",
            "    accuracy                           0.95       667\n",
            "   macro avg       0.95      0.95      0.95       667\n",
            "weighted avg       0.95      0.95      0.95       667\n",
            "\n"
          ]
        }
      ]
    },
    {
      "cell_type": "code",
      "source": [
        "# Compute confusion matrix\n",
        "cm = confusion_matrix(y_test, pred_rf_tfidf)\n",
        "# Normalize by row (actual class) to get percentage\n",
        "cm_percent = cm.astype('float') / cm.sum(axis=1)[:, np.newaxis] * 100\n",
        "# Format each cell as a percentage string\n",
        "labels = np.array([[\"{0:.2f}%\".format(value) for value in row] for row in cm_percent])\n",
        "# Define class labels\n",
        "class_names = [\"LEGITIMATE\", \"SPAM\"]\n",
        "# Plot heatmap\n",
        "plt.figure(figsize=(5, 5))\n",
        "sns.heatmap(cm_percent, annot=labels, fmt='', cmap=\"YlGnBu\", cbar=True,\n",
        "            xticklabels=class_names,\n",
        "            yticklabels=class_names)\n",
        "plt.title(\"Confusion Matrix using RF Classifier\")\n",
        "plt.xlabel(\"Predicted Label\")\n",
        "plt.ylabel(\"Actual Label\")\n",
        "plt.tight_layout()\n",
        "plt.show()"
      ],
      "metadata": {
        "colab": {
          "base_uri": "https://localhost:8080/",
          "height": 507
        },
        "id": "fFJ8Yg1_XVNx",
        "outputId": "52a66ebf-0063-4454-b81c-35c8209a7214"
      },
      "execution_count": 22,
      "outputs": [
        {
          "output_type": "display_data",
          "data": {
            "text/plain": [
              "<Figure size 500x500 with 2 Axes>"
            ],
            "image/png": "[encoded data removed]"
          },
          "metadata": {}
        }
      ]
    },
    {
      "cell_type": "markdown",
      "source": [
        "**XGBOOST**"
      ],
      "metadata": {
        "id": "2GW4y0xEXvMz"
      }
    },
    {
      "cell_type": "code",
      "source": [
        "# XGBoost\n",
        "xgb = XGBClassifier(n_estimators = 100, eval_metric='logloss')\n",
        "xgb.fit(X_train_tfidf, y_train_resampled)\n",
        "pred_xg_tfidf = rf.predict(X_test_tfidf)\n",
        "print(\"XGBoost (TF-IDF):\\n\", classification_report(y_test, pred_xg_tfidf))"
      ],
      "metadata": {
        "colab": {
          "base_uri": "https://localhost:8080/"
        },
        "id": "RrJZhZSWX1MA",
        "outputId": "3ce88d9b-2556-4c02-ba9b-f81997e7eb46"
      },
      "execution_count": 23,
      "outputs": [
        {
          "output_type": "stream",
          "name": "stdout",
          "text": [
            "XGBoost (TF-IDF):\n",
            "               precision    recall  f1-score   support\n",
            "\n",
            "           0       0.97      0.97      0.97       459\n",
            "           1       0.92      0.93      0.93       208\n",
            "\n",
            "    accuracy                           0.95       667\n",
            "   macro avg       0.95      0.95      0.95       667\n",
            "weighted avg       0.95      0.95      0.95       667\n",
            "\n"
          ]
        }
      ]
    },
    {
      "cell_type": "code",
      "source": [
        "# Compute confusion matrix\n",
        "cm = confusion_matrix(y_test, pred_xg_tfidf )\n",
        "# Normalize by row (actual class) to get percentage\n",
        "cm_percent = cm.astype('float') / cm.sum(axis=1)[:, np.newaxis] * 100\n",
        "# Format each cell as a percentage string\n",
        "labels = np.array([[\"{0:.2f}%\".format(value) for value in row] for row in cm_percent])\n",
        "# Define class labels\n",
        "class_names = [\"LEGITIMATE\", \"SPAM\"]\n",
        "# Plot heatmap\n",
        "plt.figure(figsize=(5, 5))\n",
        "sns.heatmap(cm_percent, annot=labels, fmt='', cmap=\"YlGnBu\", cbar=True,\n",
        "            xticklabels=class_names,\n",
        "            yticklabels=class_names)\n",
        "plt.title(\"Confusion Matrix using XGBOOST Classifier\")\n",
        "plt.xlabel(\"Predicted Label\")\n",
        "plt.ylabel(\"Actual Label\")\n",
        "plt.tight_layout()\n",
        "plt.show()"
      ],
      "metadata": {
        "colab": {
          "base_uri": "https://localhost:8080/",
          "height": 507
        },
        "id": "BM89LPZAX2Lw",
        "outputId": "e9d055d0-2966-40fc-c9e8-0f6dae74b60b"
      },
      "execution_count": 24,
      "outputs": [
        {
          "output_type": "display_data",
          "data": {
            "text/plain": [
              "<Figure size 500x500 with 2 Axes>"
            ],
            "image/png": "[encoded data removed]"
          },
          "metadata": {}
        }
      ]
    },
    {
      "cell_type": "code",
      "source": [
        "rf_acc = accuracy_score(y_test, pred_rf_tfidf)\n",
        "xgb_acc = accuracy_score(y_test, pred_xg_tfidf)\n",
        "# Store accuracy results\n",
        "accuracy_results = {\n",
        "    'Random Forest': rf_acc,\n",
        "    'XGBoost': xgb_acc\n",
        "}\n",
        "results = pd.DataFrame(list(accuracy_results.items()), columns=['Model', 'Accuracy'])\n",
        "# Plot bar chart\n",
        "plt.figure(figsize=(8, 5))\n",
        "sns.barplot(x='Model', y='Accuracy', data = results, palette='viridis')\n",
        "# Add values on top of the bars\n",
        "for i, value in enumerate(accuracy_results.values()):\n",
        "    plt.text(i, value + 0.002, f\"{value:.4f}\", ha='center', fontsize=12, fontweight='bold')\n",
        "plt.title('Accuracy Comparison of ML Models using TF-IDF', fontsize=14)\n",
        "plt.ylabel('Accuracy Score')\n",
        "plt.ylim(0.5, 1.0)  # Adjust based on expected accuracy range\n",
        "plt.show()"
      ],
      "metadata": {
        "colab": {
          "base_uri": "https://localhost:8080/",
          "height": 488
        },
        "id": "88IJOYsFX-sT",
        "outputId": "8e9910f5-c93b-4a12-8e90-75642ff4a16d"
      },
      "execution_count": 25,
      "outputs": [
        {
          "output_type": "display_data",
          "data": {
            "text/plain": [
              "<Figure size 800x500 with 1 Axes>"
            ],
            "image/png": "[encoded data removed]"
          },
          "metadata": {}
        }
      ]
    },
    {
      "cell_type": "code",
      "source": [
        "# Tokenization\n",
        "max_words = 5000  # Vocabulary size\n",
        "max_len = 100     # Max length of a comment\n",
        "\n",
        "tokenizer = Tokenizer(num_words=max_words, oov_token=\"\")\n",
        "tokenizer.fit_on_texts(df['clean_body'])\n",
        "sequences = tokenizer.texts_to_sequences(df['clean_body'])\n",
        "padded_sequences = pad_sequences(sequences, maxlen=max_len, padding='post', truncating='post')\n",
        "# Train-test split\n",
        "X_train, X_test, y_train, y_test = train_test_split(padded_sequences, df['urls'], test_size=0.2, random_state=42)"
      ],
      "metadata": {
        "id": "t9zrK3OQYLvu"
      },
      "execution_count": 26,
      "outputs": []
    },
    {
      "cell_type": "markdown",
      "source": [
        "**LSTM**"
      ],
      "metadata": {
        "id": "O-SnWKNhYWx0"
      }
    },
    {
      "cell_type": "code",
      "source": [
        "# Build LSTM Model\n",
        "model = Sequential([\n",
        "    Embedding(input_dim=max_words, output_dim=100, input_length=max_len),\n",
        "    LSTM(64, return_sequences=True),\n",
        "    Dropout(0.3),\n",
        "    LSTM(32),\n",
        "    Dense(16, activation='relu'),\n",
        "    Dense(1, activation='sigmoid')  # Binary classification (positive/negative)\n",
        "])\n",
        "# Compile the model\n",
        "model.compile(optimizer='adam', loss='binary_crossentropy', metrics=['accuracy'])\n",
        "model.build(input_shape=(None, max_len))\n",
        "model.summary()"
      ],
      "metadata": {
        "colab": {
          "base_uri": "https://localhost:8080/",
          "height": 321
        },
        "id": "C-TrH7tHYUYG",
        "outputId": "d48e13fe-43cd-4123-f618-1a73393f861c"
      },
      "execution_count": 27,
      "outputs": [
        {
          "output_type": "display_data",
          "data": {
            "text/plain": [
              "\u001b[1mModel: \"sequential\"\u001b[0m\n"
            ],
            "text/html": [
              "<pre style=\"white-space:pre;overflow-x:auto;line-height:normal;font-family:Menlo,'DejaVu Sans Mono',consolas,'Courier New',monospace\"><span style=\"font-weight: bold\">Model: \"sequential\"</span>\n",
              "</pre>\n"
            ]
          },
          "metadata": {}
        },
        {
          "output_type": "display_data",
          "data": {
            "text/plain": [
              "┏━━━━━━━━━━━━━━━━━━━━━━━━━━━━━━━━━┳━━━━━━━━━━━━━━━━━━━━━━━━┳━━━━━━━━━━━━━━━┓\n",
              "┃\u001b[1m \u001b[0m\u001b[1mLayer (type)                   \u001b[0m\u001b[1m \u001b[0m┃\u001b[1m \u001b[0m\u001b[1mOutput Shape          \u001b[0m\u001b[1m \u001b[0m┃\u001b[1m \u001b[0m\u001b[1m      Param #\u001b[0m\u001b[1m \u001b[0m┃\n",
              "┡━━━━━━━━━━━━━━━━━━━━━━━━━━━━━━━━━╇━━━━━━━━━━━━━━━━━━━━━━━━╇━━━━━━━━━━━━━━━┩\n",
              "│ embedding (\u001b[38;5;33mEmbedding\u001b[0m)           │ (\u001b[38;5;45mNone\u001b[0m, \u001b[38;5;34m100\u001b[0m, \u001b[38;5;34m100\u001b[0m)       │       \u001b[38;5;34m500,000\u001b[0m │\n",
              "├─────────────────────────────────┼────────────────────────┼───────────────┤\n",
              "│ lstm (\u001b[38;5;33mLSTM\u001b[0m)                     │ (\u001b[38;5;45mNone\u001b[0m, \u001b[38;5;34m100\u001b[0m, \u001b[38;5;34m64\u001b[0m)        │        \u001b[38;5;34m42,240\u001b[0m │\n",
              "├─────────────────────────────────┼────────────────────────┼───────────────┤\n",
              "│ dropout (\u001b[38;5;33mDropout\u001b[0m)               │ (\u001b[38;5;45mNone\u001b[0m, \u001b[38;5;34m100\u001b[0m, \u001b[38;5;34m64\u001b[0m)        │             \u001b[38;5;34m0\u001b[0m │\n",
              "├─────────────────────────────────┼────────────────────────┼───────────────┤\n",
              "│ lstm_1 (\u001b[38;5;33mLSTM\u001b[0m)                   │ (\u001b[38;5;45mNone\u001b[0m, \u001b[38;5;34m32\u001b[0m)             │        \u001b[38;5;34m12,416\u001b[0m │\n",
              "├─────────────────────────────────┼────────────────────────┼───────────────┤\n",
              "│ dense (\u001b[38;5;33mDense\u001b[0m)                   │ (\u001b[38;5;45mNone\u001b[0m, \u001b[38;5;34m16\u001b[0m)             │           \u001b[38;5;34m528\u001b[0m │\n",
              "├─────────────────────────────────┼────────────────────────┼───────────────┤\n",
              "│ dense_1 (\u001b[38;5;33mDense\u001b[0m)                 │ (\u001b[38;5;45mNone\u001b[0m, \u001b[38;5;34m1\u001b[0m)              │            \u001b[38;5;34m17\u001b[0m │\n",
              "└─────────────────────────────────┴────────────────────────┴───────────────┘\n"
            ],
            "text/html": [
              "<pre style=\"white-space:pre;overflow-x:auto;line-height:normal;font-family:Menlo,'DejaVu Sans Mono',consolas,'Courier New',monospace\">┏━━━━━━━━━━━━━━━━━━━━━━━━━━━━━━━━━┳━━━━━━━━━━━━━━━━━━━━━━━━┳━━━━━━━━━━━━━━━┓\n",
              "┃<span style=\"font-weight: bold\"> Layer (type)                    </span>┃<span style=\"font-weight: bold\"> Output Shape           </span>┃<span style=\"font-weight: bold\">       Param # </span>┃\n",
              "┡━━━━━━━━━━━━━━━━━━━━━━━━━━━━━━━━━╇━━━━━━━━━━━━━━━━━━━━━━━━╇━━━━━━━━━━━━━━━┩\n",
              "│ embedding (<span style=\"color: #0087ff; text-decoration-color: #0087ff\">Embedding</span>)           │ (<span style=\"color: #00d7ff; text-decoration-color: #00d7ff\">None</span>, <span style=\"color: #00af00; text-decoration-color: #00af00\">100</span>, <span style=\"color: #00af00; text-decoration-color: #00af00\">100</span>)       │       <span style=\"color: #00af00; text-decoration-color: #00af00\">500,000</span> │\n",
              "├─────────────────────────────────┼────────────────────────┼───────────────┤\n",
              "│ lstm (<span style=\"color: #0087ff; text-decoration-color: #0087ff\">LSTM</span>)                     │ (<span style=\"color: #00d7ff; text-decoration-color: #00d7ff\">None</span>, <span style=\"color: #00af00; text-decoration-color: #00af00\">100</span>, <span style=\"color: #00af00; text-decoration-color: #00af00\">64</span>)        │        <span style=\"color: #00af00; text-decoration-color: #00af00\">42,240</span> │\n",
              "├─────────────────────────────────┼────────────────────────┼───────────────┤\n",
              "│ dropout (<span style=\"color: #0087ff; text-decoration-color: #0087ff\">Dropout</span>)               │ (<span style=\"color: #00d7ff; text-decoration-color: #00d7ff\">None</span>, <span style=\"color: #00af00; text-decoration-color: #00af00\">100</span>, <span style=\"color: #00af00; text-decoration-color: #00af00\">64</span>)        │             <span style=\"color: #00af00; text-decoration-color: #00af00\">0</span> │\n",
              "├─────────────────────────────────┼────────────────────────┼───────────────┤\n",
              "│ lstm_1 (<span style=\"color: #0087ff; text-decoration-color: #0087ff\">LSTM</span>)                   │ (<span style=\"color: #00d7ff; text-decoration-color: #00d7ff\">None</span>, <span style=\"color: #00af00; text-decoration-color: #00af00\">32</span>)             │        <span style=\"color: #00af00; text-decoration-color: #00af00\">12,416</span> │\n",
              "├─────────────────────────────────┼────────────────────────┼───────────────┤\n",
              "│ dense (<span style=\"color: #0087ff; text-decoration-color: #0087ff\">Dense</span>)                   │ (<span style=\"color: #00d7ff; text-decoration-color: #00d7ff\">None</span>, <span style=\"color: #00af00; text-decoration-color: #00af00\">16</span>)             │           <span style=\"color: #00af00; text-decoration-color: #00af00\">528</span> │\n",
              "├─────────────────────────────────┼────────────────────────┼───────────────┤\n",
              "│ dense_1 (<span style=\"color: #0087ff; text-decoration-color: #0087ff\">Dense</span>)                 │ (<span style=\"color: #00d7ff; text-decoration-color: #00d7ff\">None</span>, <span style=\"color: #00af00; text-decoration-color: #00af00\">1</span>)              │            <span style=\"color: #00af00; text-decoration-color: #00af00\">17</span> │\n",
              "└─────────────────────────────────┴────────────────────────┴───────────────┘\n",
              "</pre>\n"
            ]
          },
          "metadata": {}
        },
        {
          "output_type": "display_data",
          "data": {
            "text/plain": [
              "\u001b[1m Total params: \u001b[0m\u001b[38;5;34m555,201\u001b[0m (2.12 MB)\n"
            ],
            "text/html": [
              "<pre style=\"white-space:pre;overflow-x:auto;line-height:normal;font-family:Menlo,'DejaVu Sans Mono',consolas,'Courier New',monospace\"><span style=\"font-weight: bold\"> Total params: </span><span style=\"color: #00af00; text-decoration-color: #00af00\">555,201</span> (2.12 MB)\n",
              "</pre>\n"
            ]
          },
          "metadata": {}
        },
        {
          "output_type": "display_data",
          "data": {
            "text/plain": [
              "\u001b[1m Trainable params: \u001b[0m\u001b[38;5;34m555,201\u001b[0m (2.12 MB)\n"
            ],
            "text/html": [
              "<pre style=\"white-space:pre;overflow-x:auto;line-height:normal;font-family:Menlo,'DejaVu Sans Mono',consolas,'Courier New',monospace\"><span style=\"font-weight: bold\"> Trainable params: </span><span style=\"color: #00af00; text-decoration-color: #00af00\">555,201</span> (2.12 MB)\n",
              "</pre>\n"
            ]
          },
          "metadata": {}
        },
        {
          "output_type": "display_data",
          "data": {
            "text/plain": [
              "\u001b[1m Non-trainable params: \u001b[0m\u001b[38;5;34m0\u001b[0m (0.00 B)\n"
            ],
            "text/html": [
              "<pre style=\"white-space:pre;overflow-x:auto;line-height:normal;font-family:Menlo,'DejaVu Sans Mono',consolas,'Courier New',monospace\"><span style=\"font-weight: bold\"> Non-trainable params: </span><span style=\"color: #00af00; text-decoration-color: #00af00\">0</span> (0.00 B)\n",
              "</pre>\n"
            ]
          },
          "metadata": {}
        }
      ]
    },
    {
      "cell_type": "code",
      "source": [
        "history = model.fit(X_train, y_train, validation_data=(X_test, y_test), epochs= 50, batch_size= 128)"
      ],
      "metadata": {
        "colab": {
          "base_uri": "https://localhost:8080/"
        },
        "id": "OZ-t7csHYbFn",
        "outputId": "ed114871-e926-4f31-cb72-e69b6308ca35"
      },
      "execution_count": 28,
      "outputs": [
        {
          "output_type": "stream",
          "name": "stdout",
          "text": [
            "Epoch 1/50\n",
            "\u001b[1m21/21\u001b[0m \u001b[32m━━━━━━━━━━━━━━━━━━━━\u001b[0m\u001b[37m\u001b[0m \u001b[1m11s\u001b[0m 282ms/step - accuracy: 0.6204 - loss: 0.6722 - val_accuracy: 0.7166 - val_loss: 0.5788\n",
            "Epoch 2/50\n",
            "\u001b[1m21/21\u001b[0m \u001b[32m━━━━━━━━━━━━━━━━━━━━\u001b[0m\u001b[37m\u001b[0m \u001b[1m11s\u001b[0m 334ms/step - accuracy: 0.7475 - loss: 0.5548 - val_accuracy: 0.7451 - val_loss: 0.5539\n",
            "Epoch 3/50\n",
            "\u001b[1m21/21\u001b[0m \u001b[32m━━━━━━━━━━━━━━━━━━━━\u001b[0m\u001b[37m\u001b[0m \u001b[1m8s\u001b[0m 240ms/step - accuracy: 0.8175 - loss: 0.4291 - val_accuracy: 0.7616 - val_loss: 0.5502\n",
            "Epoch 4/50\n",
            "\u001b[1m21/21\u001b[0m \u001b[32m━━━━━━━━━━━━━━━━━━━━\u001b[0m\u001b[37m\u001b[0m \u001b[1m7s\u001b[0m 322ms/step - accuracy: 0.8712 - loss: 0.3416 - val_accuracy: 0.7481 - val_loss: 0.5803\n",
            "Epoch 5/50\n",
            "\u001b[1m21/21\u001b[0m \u001b[32m━━━━━━━━━━━━━━━━━━━━\u001b[0m\u001b[37m\u001b[0m \u001b[1m11s\u001b[0m 386ms/step - accuracy: 0.8903 - loss: 0.2810 - val_accuracy: 0.7481 - val_loss: 0.6095\n",
            "Epoch 6/50\n",
            "\u001b[1m21/21\u001b[0m \u001b[32m━━━━━━━━━━━━━━━━━━━━\u001b[0m\u001b[37m\u001b[0m \u001b[1m8s\u001b[0m 250ms/step - accuracy: 0.9134 - loss: 0.2298 - val_accuracy: 0.7166 - val_loss: 0.6667\n",
            "Epoch 7/50\n",
            "\u001b[1m21/21\u001b[0m \u001b[32m━━━━━━━━━━━━━━━━━━━━\u001b[0m\u001b[37m\u001b[0m \u001b[1m10s\u001b[0m 250ms/step - accuracy: 0.9217 - loss: 0.2019 - val_accuracy: 0.7196 - val_loss: 0.7423\n",
            "Epoch 8/50\n",
            "\u001b[1m21/21\u001b[0m \u001b[32m━━━━━━━━━━━━━━━━━━━━\u001b[0m\u001b[37m\u001b[0m \u001b[1m11s\u001b[0m 301ms/step - accuracy: 0.9306 - loss: 0.1818 - val_accuracy: 0.7151 - val_loss: 0.7946\n",
            "Epoch 9/50\n",
            "\u001b[1m21/21\u001b[0m \u001b[32m━━━━━━━━━━━━━━━━━━━━\u001b[0m\u001b[37m\u001b[0m \u001b[1m11s\u001b[0m 333ms/step - accuracy: 0.9368 - loss: 0.1887 - val_accuracy: 0.7616 - val_loss: 0.7283\n",
            "Epoch 10/50\n",
            "\u001b[1m21/21\u001b[0m \u001b[32m━━━━━━━━━━━━━━━━━━━━\u001b[0m\u001b[37m\u001b[0m \u001b[1m9s\u001b[0m 249ms/step - accuracy: 0.9483 - loss: 0.1414 - val_accuracy: 0.7661 - val_loss: 0.8300\n",
            "Epoch 11/50\n",
            "\u001b[1m21/21\u001b[0m \u001b[32m━━━━━━━━━━━━━━━━━━━━\u001b[0m\u001b[37m\u001b[0m \u001b[1m10s\u001b[0m 250ms/step - accuracy: 0.9505 - loss: 0.1330 - val_accuracy: 0.7541 - val_loss: 0.8264\n",
            "Epoch 12/50\n",
            "\u001b[1m21/21\u001b[0m \u001b[32m━━━━━━━━━━━━━━━━━━━━\u001b[0m\u001b[37m\u001b[0m \u001b[1m7s\u001b[0m 336ms/step - accuracy: 0.9540 - loss: 0.1255 - val_accuracy: 0.7661 - val_loss: 0.7441\n",
            "Epoch 13/50\n",
            "\u001b[1m21/21\u001b[0m \u001b[32m━━━━━━━━━━━━━━━━━━━━\u001b[0m\u001b[37m\u001b[0m \u001b[1m9s\u001b[0m 250ms/step - accuracy: 0.9494 - loss: 0.1336 - val_accuracy: 0.7436 - val_loss: 0.8802\n",
            "Epoch 14/50\n",
            "\u001b[1m21/21\u001b[0m \u001b[32m━━━━━━━━━━━━━━━━━━━━\u001b[0m\u001b[37m\u001b[0m \u001b[1m7s\u001b[0m 325ms/step - accuracy: 0.9674 - loss: 0.1000 - val_accuracy: 0.7466 - val_loss: 0.8583\n",
            "Epoch 15/50\n",
            "\u001b[1m21/21\u001b[0m \u001b[32m━━━━━━━━━━━━━━━━━━━━\u001b[0m\u001b[37m\u001b[0m \u001b[1m9s\u001b[0m 243ms/step - accuracy: 0.9605 - loss: 0.1098 - val_accuracy: 0.7571 - val_loss: 0.9931\n",
            "Epoch 16/50\n",
            "\u001b[1m21/21\u001b[0m \u001b[32m━━━━━━━━━━━━━━━━━━━━\u001b[0m\u001b[37m\u001b[0m \u001b[1m10s\u001b[0m 250ms/step - accuracy: 0.9592 - loss: 0.1102 - val_accuracy: 0.7571 - val_loss: 0.9409\n",
            "Epoch 17/50\n",
            "\u001b[1m21/21\u001b[0m \u001b[32m━━━━━━━━━━━━━━━━━━━━\u001b[0m\u001b[37m\u001b[0m \u001b[1m10s\u001b[0m 241ms/step - accuracy: 0.9647 - loss: 0.0945 - val_accuracy: 0.7511 - val_loss: 0.9274\n",
            "Epoch 18/50\n",
            "\u001b[1m21/21\u001b[0m \u001b[32m━━━━━━━━━━━━━━━━━━━━\u001b[0m\u001b[37m\u001b[0m \u001b[1m6s\u001b[0m 304ms/step - accuracy: 0.9639 - loss: 0.0914 - val_accuracy: 0.7511 - val_loss: 0.9682\n",
            "Epoch 19/50\n",
            "\u001b[1m21/21\u001b[0m \u001b[32m━━━━━━━━━━━━━━━━━━━━\u001b[0m\u001b[37m\u001b[0m \u001b[1m9s\u001b[0m 250ms/step - accuracy: 0.9703 - loss: 0.0850 - val_accuracy: 0.7331 - val_loss: 0.9979\n",
            "Epoch 20/50\n",
            "\u001b[1m21/21\u001b[0m \u001b[32m━━━━━━━━━━━━━━━━━━━━\u001b[0m\u001b[37m\u001b[0m \u001b[1m10s\u001b[0m 250ms/step - accuracy: 0.9745 - loss: 0.0713 - val_accuracy: 0.7541 - val_loss: 1.0108\n",
            "Epoch 21/50\n",
            "\u001b[1m21/21\u001b[0m \u001b[32m━━━━━━━━━━━━━━━━━━━━\u001b[0m\u001b[37m\u001b[0m \u001b[1m11s\u001b[0m 276ms/step - accuracy: 0.9668 - loss: 0.0791 - val_accuracy: 0.7376 - val_loss: 1.0114\n",
            "Epoch 22/50\n",
            "\u001b[1m21/21\u001b[0m \u001b[32m━━━━━━━━━━━━━━━━━━━━\u001b[0m\u001b[37m\u001b[0m \u001b[1m11s\u001b[0m 323ms/step - accuracy: 0.9589 - loss: 0.0935 - val_accuracy: 0.7361 - val_loss: 0.9567\n",
            "Epoch 23/50\n",
            "\u001b[1m21/21\u001b[0m \u001b[32m━━━━━━━━━━━━━━━━━━━━\u001b[0m\u001b[37m\u001b[0m \u001b[1m5s\u001b[0m 249ms/step - accuracy: 0.9688 - loss: 0.0829 - val_accuracy: 0.7181 - val_loss: 1.0817\n",
            "Epoch 24/50\n",
            "\u001b[1m21/21\u001b[0m \u001b[32m━━━━━━━━━━━━━━━━━━━━\u001b[0m\u001b[37m\u001b[0m \u001b[1m10s\u001b[0m 241ms/step - accuracy: 0.9686 - loss: 0.0915 - val_accuracy: 0.7331 - val_loss: 1.0781\n",
            "Epoch 25/50\n",
            "\u001b[1m21/21\u001b[0m \u001b[32m━━━━━━━━━━━━━━━━━━━━\u001b[0m\u001b[37m\u001b[0m \u001b[1m12s\u001b[0m 331ms/step - accuracy: 0.9701 - loss: 0.0683 - val_accuracy: 0.7301 - val_loss: 1.1775\n",
            "Epoch 26/50\n",
            "\u001b[1m21/21\u001b[0m \u001b[32m━━━━━━━━━━━━━━━━━━━━\u001b[0m\u001b[37m\u001b[0m \u001b[1m9s\u001b[0m 289ms/step - accuracy: 0.9759 - loss: 0.0672 - val_accuracy: 0.7241 - val_loss: 1.0989\n",
            "Epoch 27/50\n",
            "\u001b[1m21/21\u001b[0m \u001b[32m━━━━━━━━━━━━━━━━━━━━\u001b[0m\u001b[37m\u001b[0m \u001b[1m9s\u001b[0m 238ms/step - accuracy: 0.9736 - loss: 0.0618 - val_accuracy: 0.7121 - val_loss: 1.2399\n",
            "Epoch 28/50\n",
            "\u001b[1m21/21\u001b[0m \u001b[32m━━━━━━━━━━━━━━━━━━━━\u001b[0m\u001b[37m\u001b[0m \u001b[1m7s\u001b[0m 323ms/step - accuracy: 0.9680 - loss: 0.0741 - val_accuracy: 0.7331 - val_loss: 1.1559\n",
            "Epoch 29/50\n",
            "\u001b[1m21/21\u001b[0m \u001b[32m━━━━━━━━━━━━━━━━━━━━\u001b[0m\u001b[37m\u001b[0m \u001b[1m5s\u001b[0m 240ms/step - accuracy: 0.9706 - loss: 0.0825 - val_accuracy: 0.7286 - val_loss: 1.1315\n",
            "Epoch 30/50\n",
            "\u001b[1m21/21\u001b[0m \u001b[32m━━━━━━━━━━━━━━━━━━━━\u001b[0m\u001b[37m\u001b[0m \u001b[1m6s\u001b[0m 290ms/step - accuracy: 0.9701 - loss: 0.0766 - val_accuracy: 0.7331 - val_loss: 1.1106\n",
            "Epoch 31/50\n",
            "\u001b[1m21/21\u001b[0m \u001b[32m━━━━━━━━━━━━━━━━━━━━\u001b[0m\u001b[37m\u001b[0m \u001b[1m10s\u001b[0m 264ms/step - accuracy: 0.9746 - loss: 0.0609 - val_accuracy: 0.7391 - val_loss: 1.1537\n",
            "Epoch 32/50\n",
            "\u001b[1m21/21\u001b[0m \u001b[32m━━━━━━━━━━━━━━━━━━━━\u001b[0m\u001b[37m\u001b[0m \u001b[1m10s\u001b[0m 249ms/step - accuracy: 0.9800 - loss: 0.0578 - val_accuracy: 0.7496 - val_loss: 1.2563\n",
            "Epoch 33/50\n",
            "\u001b[1m21/21\u001b[0m \u001b[32m━━━━━━━━━━━━━━━━━━━━\u001b[0m\u001b[37m\u001b[0m \u001b[1m12s\u001b[0m 331ms/step - accuracy: 0.9816 - loss: 0.0425 - val_accuracy: 0.7436 - val_loss: 1.2449\n",
            "Epoch 34/50\n",
            "\u001b[1m21/21\u001b[0m \u001b[32m━━━━━━━━━━━━━━━━━━━━\u001b[0m\u001b[37m\u001b[0m \u001b[1m13s\u001b[0m 599ms/step - accuracy: 0.9780 - loss: 0.0521 - val_accuracy: 0.7121 - val_loss: 1.3689\n",
            "Epoch 35/50\n",
            "\u001b[1m21/21\u001b[0m \u001b[32m━━━━━━━━━━━━━━━━━━━━\u001b[0m\u001b[37m\u001b[0m \u001b[1m17s\u001b[0m 422ms/step - accuracy: 0.9736 - loss: 0.0607 - val_accuracy: 0.7301 - val_loss: 1.3111\n",
            "Epoch 36/50\n",
            "\u001b[1m21/21\u001b[0m \u001b[32m━━━━━━━━━━━━━━━━━━━━\u001b[0m\u001b[37m\u001b[0m \u001b[1m11s\u001b[0m 485ms/step - accuracy: 0.9770 - loss: 0.0546 - val_accuracy: 0.7376 - val_loss: 1.4694\n",
            "Epoch 37/50\n",
            "\u001b[1m21/21\u001b[0m \u001b[32m━━━━━━━━━━━━━━━━━━━━\u001b[0m\u001b[37m\u001b[0m \u001b[1m10s\u001b[0m 471ms/step - accuracy: 0.9764 - loss: 0.0507 - val_accuracy: 0.7436 - val_loss: 1.3074\n",
            "Epoch 38/50\n",
            "\u001b[1m21/21\u001b[0m \u001b[32m━━━━━━━━━━━━━━━━━━━━\u001b[0m\u001b[37m\u001b[0m \u001b[1m7s\u001b[0m 287ms/step - accuracy: 0.9829 - loss: 0.0408 - val_accuracy: 0.7301 - val_loss: 1.3905\n",
            "Epoch 39/50\n",
            "\u001b[1m21/21\u001b[0m \u001b[32m━━━━━━━━━━━━━━━━━━━━\u001b[0m\u001b[37m\u001b[0m \u001b[1m10s\u001b[0m 297ms/step - accuracy: 0.9877 - loss: 0.0355 - val_accuracy: 0.7451 - val_loss: 1.4134\n",
            "Epoch 40/50\n",
            "\u001b[1m21/21\u001b[0m \u001b[32m━━━━━━━━━━━━━━━━━━━━\u001b[0m\u001b[37m\u001b[0m \u001b[1m11s\u001b[0m 337ms/step - accuracy: 0.9821 - loss: 0.0373 - val_accuracy: 0.7466 - val_loss: 1.5098\n",
            "Epoch 41/50\n",
            "\u001b[1m21/21\u001b[0m \u001b[32m━━━━━━━━━━━━━━━━━━━━\u001b[0m\u001b[37m\u001b[0m \u001b[1m8s\u001b[0m 239ms/step - accuracy: 0.9812 - loss: 0.0397 - val_accuracy: 0.7271 - val_loss: 1.5164\n",
            "Epoch 42/50\n",
            "\u001b[1m21/21\u001b[0m \u001b[32m━━━━━━━━━━━━━━━━━━━━\u001b[0m\u001b[37m\u001b[0m \u001b[1m7s\u001b[0m 324ms/step - accuracy: 0.9813 - loss: 0.0399 - val_accuracy: 0.7316 - val_loss: 1.5277\n",
            "Epoch 43/50\n",
            "\u001b[1m21/21\u001b[0m \u001b[32m━━━━━━━━━━━━━━━━━━━━\u001b[0m\u001b[37m\u001b[0m \u001b[1m5s\u001b[0m 238ms/step - accuracy: 0.9820 - loss: 0.0373 - val_accuracy: 0.7286 - val_loss: 1.5780\n",
            "Epoch 44/50\n",
            "\u001b[1m21/21\u001b[0m \u001b[32m━━━━━━━━━━━━━━━━━━━━\u001b[0m\u001b[37m\u001b[0m \u001b[1m7s\u001b[0m 318ms/step - accuracy: 0.9819 - loss: 0.0436 - val_accuracy: 0.7286 - val_loss: 1.6449\n",
            "Epoch 45/50\n",
            "\u001b[1m21/21\u001b[0m \u001b[32m━━━━━━━━━━━━━━━━━━━━\u001b[0m\u001b[37m\u001b[0m \u001b[1m5s\u001b[0m 250ms/step - accuracy: 0.9835 - loss: 0.0397 - val_accuracy: 0.7346 - val_loss: 1.4749\n",
            "Epoch 46/50\n",
            "\u001b[1m21/21\u001b[0m \u001b[32m━━━━━━━━━━━━━━━━━━━━\u001b[0m\u001b[37m\u001b[0m \u001b[1m5s\u001b[0m 252ms/step - accuracy: 0.9782 - loss: 0.0593 - val_accuracy: 0.7496 - val_loss: 1.4406\n",
            "Epoch 47/50\n",
            "\u001b[1m21/21\u001b[0m \u001b[32m━━━━━━━━━━━━━━━━━━━━\u001b[0m\u001b[37m\u001b[0m \u001b[1m16s\u001b[0m 516ms/step - accuracy: 0.9793 - loss: 0.0451 - val_accuracy: 0.7286 - val_loss: 1.6471\n",
            "Epoch 48/50\n",
            "\u001b[1m21/21\u001b[0m \u001b[32m━━━━━━━━━━━━━━━━━━━━\u001b[0m\u001b[37m\u001b[0m \u001b[1m21s\u001b[0m 523ms/step - accuracy: 0.9836 - loss: 0.0463 - val_accuracy: 0.7241 - val_loss: 1.4705\n",
            "Epoch 49/50\n",
            "\u001b[1m21/21\u001b[0m \u001b[32m━━━━━━━━━━━━━━━━━━━━\u001b[0m\u001b[37m\u001b[0m \u001b[1m15s\u001b[0m 249ms/step - accuracy: 0.9813 - loss: 0.0498 - val_accuracy: 0.7256 - val_loss: 1.4736\n",
            "Epoch 50/50\n",
            "\u001b[1m21/21\u001b[0m \u001b[32m━━━━━━━━━━━━━━━━━━━━\u001b[0m\u001b[37m\u001b[0m \u001b[1m11s\u001b[0m 293ms/step - accuracy: 0.9805 - loss: 0.0418 - val_accuracy: 0.7001 - val_loss: 1.6550\n"
          ]
        }
      ]
    },
    {
      "cell_type": "code",
      "source": [
        "y_pred_lstm = model.predict(X_test)\n",
        "y_pred_lstm = np.where(y_pred_lstm > 0.5, 1, 0).flatten()\n",
        "print(classification_report(y_test, y_pred_lstm))"
      ],
      "metadata": {
        "colab": {
          "base_uri": "https://localhost:8080/"
        },
        "id": "KEgRtGt7ZiWO",
        "outputId": "1ecddc7b-2051-46b5-e4c6-e6c53ab3c08a"
      },
      "execution_count": 41,
      "outputs": [
        {
          "output_type": "stream",
          "name": "stdout",
          "text": [
            "\u001b[1m21/21\u001b[0m \u001b[32m━━━━━━━━━━━━━━━━━━━━\u001b[0m\u001b[37m\u001b[0m \u001b[1m4s\u001b[0m 169ms/step\n",
            "              precision    recall  f1-score   support\n",
            "\n",
            "           0       0.80      0.78      0.79       459\n",
            "           1       0.54      0.56      0.55       208\n",
            "\n",
            "    accuracy                           0.71       667\n",
            "   macro avg       0.67      0.67      0.67       667\n",
            "weighted avg       0.72      0.71      0.71       667\n",
            "\n"
          ]
        }
      ]
    },
    {
      "cell_type": "code",
      "source": [
        "# Compute confusion matrix\n",
        "cm = confusion_matrix(y_test, y_pred_lstm)\n",
        "# Normalize by row (actual class) to get percentage\n",
        "cm_percent = cm.astype('float') / cm.sum(axis=1)[:, np.newaxis] * 100\n",
        "# Format each cell as a percentage string\n",
        "labels = np.array([[\"{0:.2f}%\".format(value) for value in row] for row in cm_percent])\n",
        "# Define class labels\n",
        "class_names = [\"LEGITIMATE\", \"SPAM\"]\n",
        "# Plot heatmap\n",
        "plt.figure(figsize=(5, 5))\n",
        "sns.heatmap(cm_percent, annot=labels, fmt='', cmap=\"YlGnBu\", cbar=True,\n",
        "            xticklabels=class_names,\n",
        "            yticklabels=class_names)\n",
        "plt.title(\"Confusion Matrix using LSTM Classifier\")\n",
        "plt.xlabel(\"Predicted Label\")\n",
        "plt.ylabel(\"Actual Label\")\n",
        "plt.tight_layout()\n",
        "plt.show()"
      ],
      "metadata": {
        "colab": {
          "base_uri": "https://localhost:8080/",
          "height": 507
        },
        "id": "EVx0sOdSZp_4",
        "outputId": "e5930c84-fbe4-41d5-92da-a63f224b22c6"
      },
      "execution_count": 30,
      "outputs": [
        {
          "output_type": "display_data",
          "data": {
            "text/plain": [
              "<Figure size 500x500 with 2 Axes>"
            ],
            "image/png": "[encoded data removed]"
          },
          "metadata": {}
        }
      ]
    },
    {
      "cell_type": "markdown",
      "source": [
        "**Bi-LSTM**"
      ],
      "metadata": {
        "id": "PlyIBAajaQu3"
      }
    },
    {
      "cell_type": "code",
      "source": [
        "model = Sequential([Embedding(input_dim=max_words, output_dim=100, input_length=max_len),\n",
        "                    Bidirectional(LSTM(units=128, return_sequences=False)),\n",
        "                    Dense(1, activation='sigmoid')])\n",
        "# Compile the model\n",
        "model.compile(loss='binary_crossentropy', optimizer='adam', metrics=['accuracy'])\n",
        "model.build((None, max_len))\n",
        "model.summary()"
      ],
      "metadata": {
        "colab": {
          "base_uri": "https://localhost:8080/",
          "height": 225
        },
        "id": "4Yy_CNiWaNw6",
        "outputId": "0cebb8ee-2bf4-4256-d8b7-493d936b76cb"
      },
      "execution_count": 31,
      "outputs": [
        {
          "output_type": "display_data",
          "data": {
            "text/plain": [
              "\u001b[1mModel: \"sequential_1\"\u001b[0m\n"
            ],
            "text/html": [
              "<pre style=\"white-space:pre;overflow-x:auto;line-height:normal;font-family:Menlo,'DejaVu Sans Mono',consolas,'Courier New',monospace\"><span style=\"font-weight: bold\">Model: \"sequential_1\"</span>\n",
              "</pre>\n"
            ]
          },
          "metadata": {}
        },
        {
          "output_type": "display_data",
          "data": {
            "text/plain": [
              "┏━━━━━━━━━━━━━━━━━━━━━━━━━━━━━━━━━┳━━━━━━━━━━━━━━━━━━━━━━━━┳━━━━━━━━━━━━━━━┓\n",
              "┃\u001b[1m \u001b[0m\u001b[1mLayer (type)                   \u001b[0m\u001b[1m \u001b[0m┃\u001b[1m \u001b[0m\u001b[1mOutput Shape          \u001b[0m\u001b[1m \u001b[0m┃\u001b[1m \u001b[0m\u001b[1m      Param #\u001b[0m\u001b[1m \u001b[0m┃\n",
              "┡━━━━━━━━━━━━━━━━━━━━━━━━━━━━━━━━━╇━━━━━━━━━━━━━━━━━━━━━━━━╇━━━━━━━━━━━━━━━┩\n",
              "│ embedding_1 (\u001b[38;5;33mEmbedding\u001b[0m)         │ (\u001b[38;5;45mNone\u001b[0m, \u001b[38;5;34m100\u001b[0m, \u001b[38;5;34m100\u001b[0m)       │       \u001b[38;5;34m500,000\u001b[0m │\n",
              "├─────────────────────────────────┼────────────────────────┼───────────────┤\n",
              "│ bidirectional (\u001b[38;5;33mBidirectional\u001b[0m)   │ (\u001b[38;5;45mNone\u001b[0m, \u001b[38;5;34m256\u001b[0m)            │       \u001b[38;5;34m234,496\u001b[0m │\n",
              "├─────────────────────────────────┼────────────────────────┼───────────────┤\n",
              "│ dense_2 (\u001b[38;5;33mDense\u001b[0m)                 │ (\u001b[38;5;45mNone\u001b[0m, \u001b[38;5;34m1\u001b[0m)              │           \u001b[38;5;34m257\u001b[0m │\n",
              "└─────────────────────────────────┴────────────────────────┴───────────────┘\n"
            ],
            "text/html": [
              "<pre style=\"white-space:pre;overflow-x:auto;line-height:normal;font-family:Menlo,'DejaVu Sans Mono',consolas,'Courier New',monospace\">┏━━━━━━━━━━━━━━━━━━━━━━━━━━━━━━━━━┳━━━━━━━━━━━━━━━━━━━━━━━━┳━━━━━━━━━━━━━━━┓\n",
              "┃<span style=\"font-weight: bold\"> Layer (type)                    </span>┃<span style=\"font-weight: bold\"> Output Shape           </span>┃<span style=\"font-weight: bold\">       Param # </span>┃\n",
              "┡━━━━━━━━━━━━━━━━━━━━━━━━━━━━━━━━━╇━━━━━━━━━━━━━━━━━━━━━━━━╇━━━━━━━━━━━━━━━┩\n",
              "│ embedding_1 (<span style=\"color: #0087ff; text-decoration-color: #0087ff\">Embedding</span>)         │ (<span style=\"color: #00d7ff; text-decoration-color: #00d7ff\">None</span>, <span style=\"color: #00af00; text-decoration-color: #00af00\">100</span>, <span style=\"color: #00af00; text-decoration-color: #00af00\">100</span>)       │       <span style=\"color: #00af00; text-decoration-color: #00af00\">500,000</span> │\n",
              "├─────────────────────────────────┼────────────────────────┼───────────────┤\n",
              "│ bidirectional (<span style=\"color: #0087ff; text-decoration-color: #0087ff\">Bidirectional</span>)   │ (<span style=\"color: #00d7ff; text-decoration-color: #00d7ff\">None</span>, <span style=\"color: #00af00; text-decoration-color: #00af00\">256</span>)            │       <span style=\"color: #00af00; text-decoration-color: #00af00\">234,496</span> │\n",
              "├─────────────────────────────────┼────────────────────────┼───────────────┤\n",
              "│ dense_2 (<span style=\"color: #0087ff; text-decoration-color: #0087ff\">Dense</span>)                 │ (<span style=\"color: #00d7ff; text-decoration-color: #00d7ff\">None</span>, <span style=\"color: #00af00; text-decoration-color: #00af00\">1</span>)              │           <span style=\"color: #00af00; text-decoration-color: #00af00\">257</span> │\n",
              "└─────────────────────────────────┴────────────────────────┴───────────────┘\n",
              "</pre>\n"
            ]
          },
          "metadata": {}
        },
        {
          "output_type": "display_data",
          "data": {
            "text/plain": [
              "\u001b[1m Total params: \u001b[0m\u001b[38;5;34m734,753\u001b[0m (2.80 MB)\n"
            ],
            "text/html": [
              "<pre style=\"white-space:pre;overflow-x:auto;line-height:normal;font-family:Menlo,'DejaVu Sans Mono',consolas,'Courier New',monospace\"><span style=\"font-weight: bold\"> Total params: </span><span style=\"color: #00af00; text-decoration-color: #00af00\">734,753</span> (2.80 MB)\n",
              "</pre>\n"
            ]
          },
          "metadata": {}
        },
        {
          "output_type": "display_data",
          "data": {
            "text/plain": [
              "\u001b[1m Trainable params: \u001b[0m\u001b[38;5;34m734,753\u001b[0m (2.80 MB)\n"
            ],
            "text/html": [
              "<pre style=\"white-space:pre;overflow-x:auto;line-height:normal;font-family:Menlo,'DejaVu Sans Mono',consolas,'Courier New',monospace\"><span style=\"font-weight: bold\"> Trainable params: </span><span style=\"color: #00af00; text-decoration-color: #00af00\">734,753</span> (2.80 MB)\n",
              "</pre>\n"
            ]
          },
          "metadata": {}
        },
        {
          "output_type": "display_data",
          "data": {
            "text/plain": [
              "\u001b[1m Non-trainable params: \u001b[0m\u001b[38;5;34m0\u001b[0m (0.00 B)\n"
            ],
            "text/html": [
              "<pre style=\"white-space:pre;overflow-x:auto;line-height:normal;font-family:Menlo,'DejaVu Sans Mono',consolas,'Courier New',monospace\"><span style=\"font-weight: bold\"> Non-trainable params: </span><span style=\"color: #00af00; text-decoration-color: #00af00\">0</span> (0.00 B)\n",
              "</pre>\n"
            ]
          },
          "metadata": {}
        }
      ]
    },
    {
      "cell_type": "code",
      "source": [
        "history = model.fit(X_train, y_train, validation_data=(X_test, y_test), epochs = 50, batch_size = 128)"
      ],
      "metadata": {
        "colab": {
          "base_uri": "https://localhost:8080/"
        },
        "id": "zrDWz7S6aety",
        "outputId": "1f64764d-ef30-422c-c85b-b5ed89d3cdbb"
      },
      "execution_count": 32,
      "outputs": [
        {
          "output_type": "stream",
          "name": "stdout",
          "text": [
            "Epoch 1/50\n",
            "\u001b[1m21/21\u001b[0m \u001b[32m━━━━━━━━━━━━━━━━━━━━\u001b[0m\u001b[37m\u001b[0m \u001b[1m18s\u001b[0m 674ms/step - accuracy: 0.6385 - loss: 0.6607 - val_accuracy: 0.7241 - val_loss: 0.5633\n",
            "Epoch 2/50\n",
            "\u001b[1m21/21\u001b[0m \u001b[32m━━━━━━━━━━━━━━━━━━━━\u001b[0m\u001b[37m\u001b[0m \u001b[1m14s\u001b[0m 654ms/step - accuracy: 0.7389 - loss: 0.5263 - val_accuracy: 0.7676 - val_loss: 0.5245\n",
            "Epoch 3/50\n",
            "\u001b[1m21/21\u001b[0m \u001b[32m━━━━━━━━━━━━━━━━━━━━\u001b[0m\u001b[37m\u001b[0m \u001b[1m20s\u001b[0m 649ms/step - accuracy: 0.8287 - loss: 0.3669 - val_accuracy: 0.7586 - val_loss: 0.5285\n",
            "Epoch 4/50\n",
            "\u001b[1m21/21\u001b[0m \u001b[32m━━━━━━━━━━━━━━━━━━━━\u001b[0m\u001b[37m\u001b[0m \u001b[1m20s\u001b[0m 650ms/step - accuracy: 0.8749 - loss: 0.2998 - val_accuracy: 0.7736 - val_loss: 0.7380\n",
            "Epoch 5/50\n",
            "\u001b[1m21/21\u001b[0m \u001b[32m━━━━━━━━━━━━━━━━━━━━\u001b[0m\u001b[37m\u001b[0m \u001b[1m21s\u001b[0m 651ms/step - accuracy: 0.9036 - loss: 0.2444 - val_accuracy: 0.7346 - val_loss: 0.6577\n",
            "Epoch 6/50\n",
            "\u001b[1m21/21\u001b[0m \u001b[32m━━━━━━━━━━━━━━━━━━━━\u001b[0m\u001b[37m\u001b[0m \u001b[1m20s\u001b[0m 651ms/step - accuracy: 0.9235 - loss: 0.1977 - val_accuracy: 0.7001 - val_loss: 0.6728\n",
            "Epoch 7/50\n",
            "\u001b[1m21/21\u001b[0m \u001b[32m━━━━━━━━━━━━━━━━━━━━\u001b[0m\u001b[37m\u001b[0m \u001b[1m20s\u001b[0m 615ms/step - accuracy: 0.9472 - loss: 0.1553 - val_accuracy: 0.7676 - val_loss: 0.7904\n",
            "Epoch 8/50\n",
            "\u001b[1m21/21\u001b[0m \u001b[32m━━━━━━━━━━━━━━━━━━━━\u001b[0m\u001b[37m\u001b[0m \u001b[1m20s\u001b[0m 635ms/step - accuracy: 0.9585 - loss: 0.1078 - val_accuracy: 0.7616 - val_loss: 0.8925\n",
            "Epoch 9/50\n",
            "\u001b[1m21/21\u001b[0m \u001b[32m━━━━━━━━━━━━━━━━━━━━\u001b[0m\u001b[37m\u001b[0m \u001b[1m20s\u001b[0m 589ms/step - accuracy: 0.9704 - loss: 0.0859 - val_accuracy: 0.7181 - val_loss: 0.8726\n",
            "Epoch 10/50\n",
            "\u001b[1m21/21\u001b[0m \u001b[32m━━━━━━━━━━━━━━━━━━━━\u001b[0m\u001b[37m\u001b[0m \u001b[1m23s\u001b[0m 731ms/step - accuracy: 0.9773 - loss: 0.0627 - val_accuracy: 0.7331 - val_loss: 1.0170\n",
            "Epoch 11/50\n",
            "\u001b[1m21/21\u001b[0m \u001b[32m━━━━━━━━━━━━━━━━━━━━\u001b[0m\u001b[37m\u001b[0m \u001b[1m16s\u001b[0m 788ms/step - accuracy: 0.9800 - loss: 0.0568 - val_accuracy: 0.7361 - val_loss: 0.9600\n",
            "Epoch 12/50\n",
            "\u001b[1m21/21\u001b[0m \u001b[32m━━━━━━━━━━━━━━━━━━━━\u001b[0m\u001b[37m\u001b[0m \u001b[1m17s\u001b[0m 639ms/step - accuracy: 0.9824 - loss: 0.0509 - val_accuracy: 0.7256 - val_loss: 1.0755\n",
            "Epoch 13/50\n",
            "\u001b[1m21/21\u001b[0m \u001b[32m━━━━━━━━━━━━━━━━━━━━\u001b[0m\u001b[37m\u001b[0m \u001b[1m21s\u001b[0m 651ms/step - accuracy: 0.9719 - loss: 0.0591 - val_accuracy: 0.7601 - val_loss: 1.1575\n",
            "Epoch 14/50\n",
            "\u001b[1m21/21\u001b[0m \u001b[32m━━━━━━━━━━━━━━━━━━━━\u001b[0m\u001b[37m\u001b[0m \u001b[1m21s\u001b[0m 665ms/step - accuracy: 0.9844 - loss: 0.0391 - val_accuracy: 0.7511 - val_loss: 1.2242\n",
            "Epoch 15/50\n",
            "\u001b[1m21/21\u001b[0m \u001b[32m━━━━━━━━━━━━━━━━━━━━\u001b[0m\u001b[37m\u001b[0m \u001b[1m20s\u001b[0m 652ms/step - accuracy: 0.9744 - loss: 0.0632 - val_accuracy: 0.7106 - val_loss: 1.2567\n",
            "Epoch 16/50\n",
            "\u001b[1m21/21\u001b[0m \u001b[32m━━━━━━━━━━━━━━━━━━━━\u001b[0m\u001b[37m\u001b[0m \u001b[1m20s\u001b[0m 636ms/step - accuracy: 0.9718 - loss: 0.0666 - val_accuracy: 0.7256 - val_loss: 1.0812\n",
            "Epoch 17/50\n",
            "\u001b[1m21/21\u001b[0m \u001b[32m━━━━━━━━━━━━━━━━━━━━\u001b[0m\u001b[37m\u001b[0m \u001b[1m20s\u001b[0m 638ms/step - accuracy: 0.9850 - loss: 0.0427 - val_accuracy: 0.7601 - val_loss: 1.2841\n",
            "Epoch 18/50\n",
            "\u001b[1m21/21\u001b[0m \u001b[32m━━━━━━━━━━━━━━━━━━━━\u001b[0m\u001b[37m\u001b[0m \u001b[1m21s\u001b[0m 652ms/step - accuracy: 0.9883 - loss: 0.0358 - val_accuracy: 0.7601 - val_loss: 1.3545\n",
            "Epoch 19/50\n",
            "\u001b[1m21/21\u001b[0m \u001b[32m━━━━━━━━━━━━━━━━━━━━\u001b[0m\u001b[37m\u001b[0m \u001b[1m20s\u001b[0m 608ms/step - accuracy: 0.9868 - loss: 0.0336 - val_accuracy: 0.7211 - val_loss: 1.2029\n",
            "Epoch 20/50\n",
            "\u001b[1m21/21\u001b[0m \u001b[32m━━━━━━━━━━━━━━━━━━━━\u001b[0m\u001b[37m\u001b[0m \u001b[1m13s\u001b[0m 632ms/step - accuracy: 0.9892 - loss: 0.0291 - val_accuracy: 0.7286 - val_loss: 1.2460\n",
            "Epoch 21/50\n",
            "\u001b[1m21/21\u001b[0m \u001b[32m━━━━━━━━━━━━━━━━━━━━\u001b[0m\u001b[37m\u001b[0m \u001b[1m20s\u001b[0m 631ms/step - accuracy: 0.9864 - loss: 0.0310 - val_accuracy: 0.7481 - val_loss: 1.3799\n",
            "Epoch 22/50\n",
            "\u001b[1m21/21\u001b[0m \u001b[32m━━━━━━━━━━━━━━━━━━━━\u001b[0m\u001b[37m\u001b[0m \u001b[1m20s\u001b[0m 602ms/step - accuracy: 0.9866 - loss: 0.0289 - val_accuracy: 0.7436 - val_loss: 1.3911\n",
            "Epoch 23/50\n",
            "\u001b[1m21/21\u001b[0m \u001b[32m━━━━━━━━━━━━━━━━━━━━\u001b[0m\u001b[37m\u001b[0m \u001b[1m13s\u001b[0m 625ms/step - accuracy: 0.9879 - loss: 0.0246 - val_accuracy: 0.7481 - val_loss: 1.3782\n",
            "Epoch 24/50\n",
            "\u001b[1m21/21\u001b[0m \u001b[32m━━━━━━━━━━━━━━━━━━━━\u001b[0m\u001b[37m\u001b[0m \u001b[1m14s\u001b[0m 652ms/step - accuracy: 0.9906 - loss: 0.0222 - val_accuracy: 0.7286 - val_loss: 1.4232\n",
            "Epoch 25/50\n",
            "\u001b[1m21/21\u001b[0m \u001b[32m━━━━━━━━━━━━━━━━━━━━\u001b[0m\u001b[37m\u001b[0m \u001b[1m14s\u001b[0m 696ms/step - accuracy: 0.9857 - loss: 0.0328 - val_accuracy: 0.7256 - val_loss: 1.3346\n",
            "Epoch 26/50\n",
            "\u001b[1m21/21\u001b[0m \u001b[32m━━━━━━━━━━━━━━━━━━━━\u001b[0m\u001b[37m\u001b[0m \u001b[1m20s\u001b[0m 652ms/step - accuracy: 0.9862 - loss: 0.0348 - val_accuracy: 0.7451 - val_loss: 1.5119\n",
            "Epoch 27/50\n",
            "\u001b[1m21/21\u001b[0m \u001b[32m━━━━━━━━━━━━━━━━━━━━\u001b[0m\u001b[37m\u001b[0m \u001b[1m20s\u001b[0m 651ms/step - accuracy: 0.9883 - loss: 0.0271 - val_accuracy: 0.7226 - val_loss: 1.3927\n",
            "Epoch 28/50\n",
            "\u001b[1m21/21\u001b[0m \u001b[32m━━━━━━━━━━━━━━━━━━━━\u001b[0m\u001b[37m\u001b[0m \u001b[1m25s\u001b[0m 885ms/step - accuracy: 0.9892 - loss: 0.0253 - val_accuracy: 0.7511 - val_loss: 1.4567\n",
            "Epoch 29/50\n",
            "\u001b[1m21/21\u001b[0m \u001b[32m━━━━━━━━━━━━━━━━━━━━\u001b[0m\u001b[37m\u001b[0m \u001b[1m19s\u001b[0m 921ms/step - accuracy: 0.9898 - loss: 0.0262 - val_accuracy: 0.7406 - val_loss: 1.4707\n",
            "Epoch 30/50\n",
            "\u001b[1m21/21\u001b[0m \u001b[32m━━━━━━━━━━━━━━━━━━━━\u001b[0m\u001b[37m\u001b[0m \u001b[1m22s\u001b[0m 969ms/step - accuracy: 0.9900 - loss: 0.0261 - val_accuracy: 0.7121 - val_loss: 1.5028\n",
            "Epoch 31/50\n",
            "\u001b[1m21/21\u001b[0m \u001b[32m━━━━━━━━━━━━━━━━━━━━\u001b[0m\u001b[37m\u001b[0m \u001b[1m34s\u001b[0m 640ms/step - accuracy: 0.9863 - loss: 0.0285 - val_accuracy: 0.7316 - val_loss: 1.4466\n",
            "Epoch 32/50\n",
            "\u001b[1m21/21\u001b[0m \u001b[32m━━━━━━━━━━━━━━━━━━━━\u001b[0m\u001b[37m\u001b[0m \u001b[1m20s\u001b[0m 661ms/step - accuracy: 0.9920 - loss: 0.0223 - val_accuracy: 0.7151 - val_loss: 1.4878\n",
            "Epoch 33/50\n",
            "\u001b[1m21/21\u001b[0m \u001b[32m━━━━━━━━━━━━━━━━━━━━\u001b[0m\u001b[37m\u001b[0m \u001b[1m25s\u001b[0m 844ms/step - accuracy: 0.9888 - loss: 0.0261 - val_accuracy: 0.7226 - val_loss: 1.5362\n",
            "Epoch 34/50\n",
            "\u001b[1m21/21\u001b[0m \u001b[32m━━━━━━━━━━━━━━━━━━━━\u001b[0m\u001b[37m\u001b[0m \u001b[1m22s\u001b[0m 925ms/step - accuracy: 0.9931 - loss: 0.0162 - val_accuracy: 0.7151 - val_loss: 1.5144\n",
            "Epoch 35/50\n",
            "\u001b[1m21/21\u001b[0m \u001b[32m━━━━━━━━━━━━━━━━━━━━\u001b[0m\u001b[37m\u001b[0m \u001b[1m21s\u001b[0m 964ms/step - accuracy: 0.9897 - loss: 0.0196 - val_accuracy: 0.7196 - val_loss: 1.5971\n",
            "Epoch 36/50\n",
            "\u001b[1m21/21\u001b[0m \u001b[32m━━━━━━━━━━━━━━━━━━━━\u001b[0m\u001b[37m\u001b[0m \u001b[1m14s\u001b[0m 637ms/step - accuracy: 0.9861 - loss: 0.0312 - val_accuracy: 0.7406 - val_loss: 1.5146\n",
            "Epoch 37/50\n",
            "\u001b[1m21/21\u001b[0m \u001b[32m━━━━━━━━━━━━━━━━━━━━\u001b[0m\u001b[37m\u001b[0m \u001b[1m29s\u001b[0m 1s/step - accuracy: 0.9897 - loss: 0.0274 - val_accuracy: 0.7241 - val_loss: 1.4465\n",
            "Epoch 38/50\n",
            "\u001b[1m21/21\u001b[0m \u001b[32m━━━━━━━━━━━━━━━━━━━━\u001b[0m\u001b[37m\u001b[0m \u001b[1m29s\u001b[0m 1s/step - accuracy: 0.9877 - loss: 0.0264 - val_accuracy: 0.7181 - val_loss: 1.5257\n",
            "Epoch 39/50\n",
            "\u001b[1m21/21\u001b[0m \u001b[32m━━━━━━━━━━━━━━━━━━━━\u001b[0m\u001b[37m\u001b[0m \u001b[1m21s\u001b[0m 1s/step - accuracy: 0.9900 - loss: 0.0301 - val_accuracy: 0.7301 - val_loss: 1.4559\n",
            "Epoch 40/50\n",
            "\u001b[1m21/21\u001b[0m \u001b[32m━━━━━━━━━━━━━━━━━━━━\u001b[0m\u001b[37m\u001b[0m \u001b[1m40s\u001b[0m 973ms/step - accuracy: 0.9915 - loss: 0.0215 - val_accuracy: 0.7241 - val_loss: 1.5166\n",
            "Epoch 41/50\n",
            "\u001b[1m21/21\u001b[0m \u001b[32m━━━━━━━━━━━━━━━━━━━━\u001b[0m\u001b[37m\u001b[0m \u001b[1m20s\u001b[0m 926ms/step - accuracy: 0.9911 - loss: 0.0195 - val_accuracy: 0.7271 - val_loss: 1.5452\n",
            "Epoch 42/50\n",
            "\u001b[1m21/21\u001b[0m \u001b[32m━━━━━━━━━━━━━━━━━━━━\u001b[0m\u001b[37m\u001b[0m \u001b[1m22s\u001b[0m 1s/step - accuracy: 0.9894 - loss: 0.0197 - val_accuracy: 0.7436 - val_loss: 1.5146\n",
            "Epoch 43/50\n",
            "\u001b[1m21/21\u001b[0m \u001b[32m━━━━━━━━━━━━━━━━━━━━\u001b[0m\u001b[37m\u001b[0m \u001b[1m42s\u001b[0m 1s/step - accuracy: 0.9891 - loss: 0.0231 - val_accuracy: 0.7421 - val_loss: 1.5018\n",
            "Epoch 44/50\n",
            "\u001b[1m21/21\u001b[0m \u001b[32m━━━━━━━━━━━━━━━━━━━━\u001b[0m\u001b[37m\u001b[0m \u001b[1m36s\u001b[0m 848ms/step - accuracy: 0.9925 - loss: 0.0207 - val_accuracy: 0.7301 - val_loss: 1.5270\n",
            "Epoch 45/50\n",
            "\u001b[1m21/21\u001b[0m \u001b[32m━━━━━━━━━━━━━━━━━━━━\u001b[0m\u001b[37m\u001b[0m \u001b[1m23s\u001b[0m 961ms/step - accuracy: 0.9879 - loss: 0.0275 - val_accuracy: 0.7301 - val_loss: 1.4767\n",
            "Epoch 46/50\n",
            "\u001b[1m21/21\u001b[0m \u001b[32m━━━━━━━━━━━━━━━━━━━━\u001b[0m\u001b[37m\u001b[0m \u001b[1m26s\u001b[0m 1s/step - accuracy: 0.9850 - loss: 0.0255 - val_accuracy: 0.7271 - val_loss: 1.5514\n",
            "Epoch 47/50\n",
            "\u001b[1m21/21\u001b[0m \u001b[32m━━━━━━━━━━━━━━━━━━━━\u001b[0m\u001b[37m\u001b[0m \u001b[1m29s\u001b[0m 638ms/step - accuracy: 0.9926 - loss: 0.0190 - val_accuracy: 0.7466 - val_loss: 1.6870\n",
            "Epoch 48/50\n",
            "\u001b[1m21/21\u001b[0m \u001b[32m━━━━━━━━━━━━━━━━━━━━\u001b[0m\u001b[37m\u001b[0m \u001b[1m21s\u001b[0m 640ms/step - accuracy: 0.9844 - loss: 0.0310 - val_accuracy: 0.7361 - val_loss: 1.5710\n",
            "Epoch 49/50\n",
            "\u001b[1m21/21\u001b[0m \u001b[32m━━━━━━━━━━━━━━━━━━━━\u001b[0m\u001b[37m\u001b[0m \u001b[1m21s\u001b[0m 687ms/step - accuracy: 0.9861 - loss: 0.0289 - val_accuracy: 0.7226 - val_loss: 1.6026\n",
            "Epoch 50/50\n",
            "\u001b[1m21/21\u001b[0m \u001b[32m━━━━━━━━━━━━━━━━━━━━\u001b[0m\u001b[37m\u001b[0m \u001b[1m20s\u001b[0m 683ms/step - accuracy: 0.9897 - loss: 0.0238 - val_accuracy: 0.7121 - val_loss: 1.4459\n"
          ]
        }
      ]
    },
    {
      "cell_type": "code",
      "source": [
        "y_pred_bi_lstm = model.predict(X_test)\n",
        "y_pred_bi_lstm  = np.where(y_pred_bi_lstm  > 0.5, 1, 0).flatten()\n",
        "print(classification_report(y_test, y_pred_bi_lstm))"
      ],
      "metadata": {
        "colab": {
          "base_uri": "https://localhost:8080/"
        },
        "id": "xZzViGFocu4D",
        "outputId": "365c1517-87fb-45a0-ff2c-a4457907c7c2"
      },
      "execution_count": 40,
      "outputs": [
        {
          "output_type": "stream",
          "name": "stdout",
          "text": [
            "\u001b[1m21/21\u001b[0m \u001b[32m━━━━━━━━━━━━━━━━━━━━\u001b[0m\u001b[37m\u001b[0m \u001b[1m3s\u001b[0m 125ms/step\n",
            "              precision    recall  f1-score   support\n",
            "\n",
            "           0       0.80      0.78      0.79       459\n",
            "           1       0.54      0.56      0.55       208\n",
            "\n",
            "    accuracy                           0.71       667\n",
            "   macro avg       0.67      0.67      0.67       667\n",
            "weighted avg       0.72      0.71      0.71       667\n",
            "\n"
          ]
        }
      ]
    },
    {
      "cell_type": "code",
      "source": [
        "# Compute confusion matrix\n",
        "cm = confusion_matrix(y_test, y_pred_bi_lstm)\n",
        "# Normalize by row (actual class) to get percentage\n",
        "cm_percent = cm.astype('float') / cm.sum(axis=1)[:, np.newaxis] * 100\n",
        "# Format each cell as a percentage string\n",
        "labels = np.array([[\"{0:.2f}%\".format(value) for value in row] for row in cm_percent])\n",
        "# Define class labels\n",
        "class_names = [\"LEGITIMATE\", \"SPAM\"]\n",
        "# Plot heatmap\n",
        "plt.figure(figsize=(5, 5))\n",
        "sns.heatmap(cm_percent, annot=labels, fmt='', cmap=\"YlGnBu\", cbar=True,\n",
        "            xticklabels=class_names,\n",
        "            yticklabels=class_names)\n",
        "plt.title(\"Confusion Matrix using Bi-LSTM Classifier\")\n",
        "plt.xlabel(\"Predicted Label\")\n",
        "plt.ylabel(\"Actual Label\")\n",
        "plt.tight_layout()\n",
        "plt.show()"
      ],
      "metadata": {
        "colab": {
          "base_uri": "https://localhost:8080/",
          "height": 507
        },
        "id": "qzwIJMe3c8Zr",
        "outputId": "b527cbea-14ef-4b8a-e1f7-e08a241c8050"
      },
      "execution_count": 35,
      "outputs": [
        {
          "output_type": "display_data",
          "data": {
            "text/plain": [
              "<Figure size 500x500 with 2 Axes>"
            ],
            "image/png": "[encoded data removed]"
          },
          "metadata": {}
        }
      ]
    },
    {
      "cell_type": "code",
      "source": [
        "lstm_acc = accuracy_score(y_test, y_pred_lstm)\n",
        "bi_lstm_acc = accuracy_score(y_test, y_pred_bi_lstm)\n",
        "accuracy_results = {\n",
        "    'LSTM': round(lstm_acc, 4),\n",
        "    'Bi-LSTM': round(bi_lstm_acc, 4)\n",
        "}\n",
        "\n",
        "plt.figure(figsize=(8, 5))\n",
        "sns.barplot(x=list(accuracy_results.keys()), y=list(accuracy_results.values()), palette=\"viridis\")\n",
        "\n",
        "for i, value in enumerate(accuracy_results.values()):\n",
        "    plt.text(i, value + 0.001, f\"{value:.4f}\", ha='center', fontsize=12, fontweight='bold')\n",
        "\n",
        "plt.title(\"Comparison of DL Classifier Accuracy\", fontsize=14, fontweight='bold')\n",
        "plt.ylabel(\"Accuracy Score\", fontsize=12)\n",
        "# Dynamic ylim based on actual values\n",
        "min_acc = min(accuracy_results.values())\n",
        "max_acc = max(accuracy_results.values())\n",
        "plt.ylim(min_acc - 0.01, max_acc + 0.02)\n",
        "plt.xticks(fontsize=11)\n",
        "plt.yticks(fontsize=11)\n",
        "plt.show()"
      ],
      "metadata": {
        "colab": {
          "base_uri": "https://localhost:8080/",
          "height": 470
        },
        "id": "6CIKH-SheIfU",
        "outputId": "24a43373-3fc8-43a8-dad9-099ff6cd6dd3"
      },
      "execution_count": 44,
      "outputs": [
        {
          "output_type": "display_data",
          "data": {
            "text/plain": [
              "<Figure size 800x500 with 1 Axes>"
            ],
            "image/png": "[encoded data removed]"
          },
          "metadata": {}
        }
      ]
    }
  ]
}